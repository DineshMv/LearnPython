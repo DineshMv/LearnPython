{
 "cells": [
  {
   "cell_type": "markdown",
   "id": "8c00929f",
   "metadata": {},
   "source": [
    "#### If, Elif, Else statements:"
   ]
  },
  {
   "cell_type": "markdown",
   "id": "820655bb",
   "metadata": {},
   "source": [
    "1. Control flow allows to execute a code block only when certain condition is met\n",
    "\n",
    "2. Here we use if, elif, else\n",
    "\n",
    "3. Control flow syntax uses colons and indentation (white spaces)"
   ]
  },
  {
   "cell_type": "markdown",
   "id": "b3a37f0e",
   "metadata": {},
   "source": [
    "##### IF:: Syntax:"
   ]
  },
  {
   "cell_type": "markdown",
   "id": "424673e5",
   "metadata": {},
   "source": [
    "if some_condition:\n",
    "    #execute some code\n",
    "elif some_other_condition:\n",
    "    #do something different\n",
    "else:\n",
    "    #do something else"
   ]
  },
  {
   "cell_type": "code",
   "execution_count": 2,
   "id": "5baf1812",
   "metadata": {},
   "outputs": [
    {
     "name": "stdout",
     "output_type": "stream",
     "text": [
      "Its TRUE!\n"
     ]
    }
   ],
   "source": [
    "if True:\n",
    "    print(\"Its TRUE!\")"
   ]
  },
  {
   "cell_type": "code",
   "execution_count": 3,
   "id": "fa2ef7fd",
   "metadata": {},
   "outputs": [
    {
     "name": "stdout",
     "output_type": "stream",
     "text": [
      "Its True!\n"
     ]
    }
   ],
   "source": [
    "x = True\n",
    "\n",
    "if x:\n",
    "    print('Its True!')"
   ]
  },
  {
   "cell_type": "code",
   "execution_count": 5,
   "id": "6ff70195",
   "metadata": {},
   "outputs": [
    {
     "name": "stdout",
     "output_type": "stream",
     "text": [
      "Its False!\n"
     ]
    }
   ],
   "source": [
    "x = False\n",
    "\n",
    "if x:\n",
    "    print('Its True!')\n",
    "else:\n",
    "    print('Its False!')"
   ]
  },
  {
   "cell_type": "code",
   "execution_count": 6,
   "id": "0fc179d8",
   "metadata": {},
   "outputs": [
    {
     "name": "stdout",
     "output_type": "stream",
     "text": [
      "Money is cool!\n"
     ]
    }
   ],
   "source": [
    "loc = 'Bank'\n",
    "\n",
    "if loc =='Auto Shop': #Condition1\n",
    "    print('Cars are cool!')\n",
    "elif loc == 'Bank': #Condition2\n",
    "    print('Money is cool!')\n",
    "else: #default Condition\n",
    "    print(\"I don't know where I am\")"
   ]
  },
  {
   "cell_type": "code",
   "execution_count": 7,
   "id": "b1a83a20",
   "metadata": {},
   "outputs": [
    {
     "name": "stdout",
     "output_type": "stream",
     "text": [
      "Hello Bucky!\n"
     ]
    }
   ],
   "source": [
    "#Example:\n",
    "\n",
    "name = 'Bucky'\n",
    "\n",
    "if name =='Frank':\n",
    "    print('Hello, Frank!')\n",
    "elif name == 'Bucky':\n",
    "    print('Hello Bucky!')\n",
    "else:\n",
    "    print('What is your name:')"
   ]
  }
 ],
 "metadata": {
  "kernelspec": {
   "display_name": "Python 3 (ipykernel)",
   "language": "python",
   "name": "python3"
  },
  "language_info": {
   "codemirror_mode": {
    "name": "ipython",
    "version": 3
   },
   "file_extension": ".py",
   "mimetype": "text/x-python",
   "name": "python",
   "nbconvert_exporter": "python",
   "pygments_lexer": "ipython3",
   "version": "3.9.12"
  }
 },
 "nbformat": 4,
 "nbformat_minor": 5
}
