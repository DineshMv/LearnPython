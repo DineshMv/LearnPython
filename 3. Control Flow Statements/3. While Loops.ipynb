{
 "cells": [
  {
   "cell_type": "markdown",
   "id": "b213020c",
   "metadata": {},
   "source": [
    "#### While Loops:"
   ]
  },
  {
   "cell_type": "markdown",
   "id": "128c0cdf",
   "metadata": {},
   "source": [
    "While loop will continue to execute a block of code while some condition remains true.\n",
    "\n",
    "**Syntax:**\n",
    "\n",
    "while some_boolean_condition:\n",
    "    #do something\n",
    "else:\n",
    "    #do something different"
   ]
  },
  {
   "cell_type": "code",
   "execution_count": 6,
   "id": "7d782b43",
   "metadata": {},
   "outputs": [
    {
     "name": "stdout",
     "output_type": "stream",
     "text": [
      "The current value of x is: 0\n",
      "The current value of x is: 1\n",
      "The current value of x is: 2\n",
      "The current value of x is: 3\n",
      "The current value of x is: 4\n",
      "x is not < 5\n"
     ]
    }
   ],
   "source": [
    "x = 0 \n",
    "\n",
    "while x<5:\n",
    "    print(f'The current value of x is: {x}')\n",
    "    x= x+1\n",
    "else:\n",
    "    print(\"x is not < 5\")"
   ]
  },
  {
   "cell_type": "markdown",
   "id": "c84431cb",
   "metadata": {},
   "source": [
    "**break, continue, pass keywords**:\n",
    "\n",
    "1. break: Breaks out of current closest enclosing loop.\n",
    "2. continue: Goes to the top of the closest loop.\n",
    "3. pass: Does nothing at all"
   ]
  },
  {
   "cell_type": "code",
   "execution_count": 7,
   "id": "d4e212cf",
   "metadata": {},
   "outputs": [
    {
     "name": "stdout",
     "output_type": "stream",
     "text": [
      "End of my Script\n"
     ]
    }
   ],
   "source": [
    "#Pass\n",
    "x = [1,2,4]\n",
    "\n",
    "for items in x:\n",
    "    pass\n",
    "#Do not do anything with forloop and go to next step\n",
    "\n",
    "print('End of my Script')"
   ]
  },
  {
   "cell_type": "code",
   "execution_count": 9,
   "id": "3a342260",
   "metadata": {},
   "outputs": [
    {
     "name": "stdout",
     "output_type": "stream",
     "text": [
      "B\n",
      "c\n",
      "k\n",
      "y\n"
     ]
    }
   ],
   "source": [
    "#continue\n",
    "myString = 'Bucky'\n",
    "\n",
    "for letter in myString:\n",
    "    if letter == 'u':\n",
    "        continue\n",
    "        #Meanining go back to the loop and pickup next character in the String\n",
    "    print(letter)"
   ]
  },
  {
   "cell_type": "code",
   "execution_count": 10,
   "id": "7c1785b8",
   "metadata": {},
   "outputs": [
    {
     "name": "stdout",
     "output_type": "stream",
     "text": [
      "B\n",
      "u\n",
      "c\n"
     ]
    }
   ],
   "source": [
    "#break\n",
    "myString = 'Bucky'\n",
    "\n",
    "for letter in myString:\n",
    "    if letter == 'k':\n",
    "        break\n",
    "        #Meanining breaks out of the loop\n",
    "    print(letter)"
   ]
  },
  {
   "cell_type": "code",
   "execution_count": 11,
   "id": "509893d8",
   "metadata": {},
   "outputs": [
    {
     "name": "stdout",
     "output_type": "stream",
     "text": [
      "0\n",
      "1\n"
     ]
    }
   ],
   "source": [
    "x = 0\n",
    "\n",
    "while x < 5:\n",
    "    if x ==2:\n",
    "        break\n",
    "    print(x)\n",
    "    x+=1\n"
   ]
  }
 ],
 "metadata": {
  "kernelspec": {
   "display_name": "Python 3 (ipykernel)",
   "language": "python",
   "name": "python3"
  },
  "language_info": {
   "codemirror_mode": {
    "name": "ipython",
    "version": 3
   },
   "file_extension": ".py",
   "mimetype": "text/x-python",
   "name": "python",
   "nbconvert_exporter": "python",
   "pygments_lexer": "ipython3",
   "version": "3.9.12"
  }
 },
 "nbformat": 4,
 "nbformat_minor": 5
}
