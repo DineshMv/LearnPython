{
 "cells": [
  {
   "cell_type": "markdown",
   "id": "3dcec2f0",
   "metadata": {},
   "source": [
    "### Opening and Reading Files"
   ]
  },
  {
   "cell_type": "code",
   "execution_count": 8,
   "id": "0370ec8a",
   "metadata": {},
   "outputs": [
    {
     "data": {
      "text/plain": [
       "'C:\\\\Users\\\\Dino\\\\LearnPython\\\\10. Advanced Python Modules'"
      ]
     },
     "execution_count": 8,
     "metadata": {},
     "output_type": "execute_result"
    }
   ],
   "source": [
    "# Current Working Directory\n",
    "pwd"
   ]
  },
  {
   "cell_type": "code",
   "execution_count": 24,
   "id": "fc63a74f",
   "metadata": {},
   "outputs": [],
   "source": [
    "f = open('Practise.txt', 'w+')\n",
    "\n",
    "f.write('This is a test String')\n",
    "\n",
    "f.close()"
   ]
  },
  {
   "cell_type": "markdown",
   "id": "d29916e7",
   "metadata": {},
   "source": [
    "#### Getting Directories\n",
    "\n",
    "Python has a built-in os module that allows us to use operating system dependent functionality."
   ]
  },
  {
   "cell_type": "code",
   "execution_count": 1,
   "id": "f84ab3c4",
   "metadata": {},
   "outputs": [],
   "source": [
    "import os"
   ]
  },
  {
   "cell_type": "code",
   "execution_count": 2,
   "id": "83f485db",
   "metadata": {},
   "outputs": [
    {
     "data": {
      "text/plain": [
       "'C:\\\\Users\\\\Dino\\\\LearnPython\\\\10. Advanced Python Modules'"
      ]
     },
     "execution_count": 2,
     "metadata": {},
     "output_type": "execute_result"
    }
   ],
   "source": [
    "os.getcwd()"
   ]
  },
  {
   "cell_type": "code",
   "execution_count": 3,
   "id": "41921d86",
   "metadata": {},
   "outputs": [
    {
     "data": {
      "text/plain": [
       "['.ipynb_checkpoints', '1. Collections.ipynb', '2. OS Module.ipynb']"
      ]
     },
     "execution_count": 3,
     "metadata": {},
     "output_type": "execute_result"
    }
   ],
   "source": [
    "#List items in current working directory - cwd\n",
    "os.listdir()"
   ]
  },
  {
   "cell_type": "code",
   "execution_count": 7,
   "id": "a4600423",
   "metadata": {},
   "outputs": [
    {
     "data": {
      "text/plain": [
       "['All Users', 'Default', 'Default User', 'desktop.ini', 'Dino', 'Public']"
      ]
     },
     "execution_count": 7,
     "metadata": {},
     "output_type": "execute_result"
    }
   ],
   "source": [
    "# In any directory you pass\n",
    "\n",
    "os.listdir('C:\\\\USERS')"
   ]
  },
  {
   "cell_type": "code",
   "execution_count": 8,
   "id": "7104b7cf",
   "metadata": {},
   "outputs": [
    {
     "data": {
      "text/plain": [
       "['desktop.ini']"
      ]
     },
     "execution_count": 8,
     "metadata": {},
     "output_type": "execute_result"
    }
   ],
   "source": [
    "os.listdir('C://USERS/Dino/Desktop/')"
   ]
  },
  {
   "cell_type": "markdown",
   "id": "d2ca520c",
   "metadata": {},
   "source": [
    "_________________________________________________________"
   ]
  },
  {
   "cell_type": "markdown",
   "id": "4ce503ab",
   "metadata": {},
   "source": [
    "#### Moving Files"
   ]
  },
  {
   "cell_type": "markdown",
   "id": "e57740b0",
   "metadata": {},
   "source": [
    "The built-in shutil module to to move files to different locations. Keep in mind of the permission restrictions"
   ]
  },
  {
   "cell_type": "code",
   "execution_count": 8,
   "id": "9026ec92",
   "metadata": {},
   "outputs": [],
   "source": [
    "import shutil"
   ]
  },
  {
   "cell_type": "code",
   "execution_count": 9,
   "id": "18a320e8",
   "metadata": {},
   "outputs": [
    {
     "data": {
      "text/plain": [
       "'C:\\\\Users\\\\Dino\\\\LearnPython\\\\Practise.txt'"
      ]
     },
     "execution_count": 9,
     "metadata": {},
     "output_type": "execute_result"
    }
   ],
   "source": [
    "shutil.move('Practise.txt','C:\\\\Users\\\\Dino\\\\LearnPython')"
   ]
  },
  {
   "cell_type": "code",
   "execution_count": 10,
   "id": "5ba9ed88",
   "metadata": {},
   "outputs": [
    {
     "data": {
      "text/plain": [
       "['.git',\n",
       " '.gitignore',\n",
       " '.idea',\n",
       " '.ipynb_checkpoints',\n",
       " '1. Basics',\n",
       " '10. Advanced Python Modules',\n",
       " '2. Comparision Operators',\n",
       " '3. Control Flow Statements',\n",
       " '4. Methods and Functions',\n",
       " '5. OOP',\n",
       " '6. Modules and Packages',\n",
       " '7. Errors and Exceptions Handling',\n",
       " '8. Python Decorators',\n",
       " '9. Python Generators',\n",
       " 'LICENSE',\n",
       " 'Practise.txt',\n",
       " 'README.md']"
      ]
     },
     "execution_count": 10,
     "metadata": {},
     "output_type": "execute_result"
    }
   ],
   "source": [
    "os.listdir('C:\\\\Users\\\\Dino\\\\LearnPython')"
   ]
  },
  {
   "cell_type": "markdown",
   "id": "b209d435",
   "metadata": {},
   "source": [
    "____________________________________________________________________"
   ]
  },
  {
   "cell_type": "markdown",
   "id": "6aa0a32a",
   "metadata": {},
   "source": [
    "#### Deleting Files\n",
    "\n",
    "NOTE: The os module provides 3 methods for deleting files:\n",
    "\n",
    "- os.unlink(path) which deletes a file at the path your provide\n",
    "- os.rmdir(path) which deletes a folder (folder must be empty) at the path your provide\n",
    "- shutil.rmtree(path) this is the most dangerous, as it will remove all files and folders contained in the path.\n",
    "\n",
    "**All of these methods can not be reversed! Which means if you make a mistake you won't be able to recover the file. Instead we will use the send2trash module. A safer alternative that sends deleted files to the trash bin instead of permanent removal. ___**"
   ]
  },
  {
   "cell_type": "markdown",
   "id": "b7a6dc9d",
   "metadata": {},
   "source": [
    "            pip install send2trash"
   ]
  },
  {
   "cell_type": "code",
   "execution_count": 11,
   "id": "1b6a975c",
   "metadata": {},
   "outputs": [],
   "source": [
    "import send2trash"
   ]
  },
  {
   "cell_type": "code",
   "execution_count": 14,
   "id": "41d9738b",
   "metadata": {},
   "outputs": [
    {
     "data": {
      "text/plain": [
       "'C:\\\\Users\\\\Dino\\\\LearnPython\\\\10. Advanced Python Modules'"
      ]
     },
     "execution_count": 14,
     "metadata": {},
     "output_type": "execute_result"
    }
   ],
   "source": [
    "os.getcwd()"
   ]
  },
  {
   "cell_type": "code",
   "execution_count": 12,
   "id": "92ae3f87",
   "metadata": {},
   "outputs": [
    {
     "data": {
      "text/plain": [
       "['.ipynb_checkpoints', '1. Collections.ipynb', '2. OS Module.ipynb']"
      ]
     },
     "execution_count": 12,
     "metadata": {},
     "output_type": "execute_result"
    }
   ],
   "source": [
    "os.listdir()"
   ]
  },
  {
   "cell_type": "code",
   "execution_count": 15,
   "id": "76e9ed3d",
   "metadata": {},
   "outputs": [
    {
     "data": {
      "text/plain": [
       "'C:\\\\Users\\\\Dino\\\\LearnPython\\\\10. Advanced Python Modules\\\\Practise.txt'"
      ]
     },
     "execution_count": 15,
     "metadata": {},
     "output_type": "execute_result"
    }
   ],
   "source": [
    "shutil.move('C://Users//Dino//LearnPython/Practise.txt', os.getcwd())"
   ]
  },
  {
   "cell_type": "code",
   "execution_count": 16,
   "id": "bdad07ad",
   "metadata": {},
   "outputs": [
    {
     "data": {
      "text/plain": [
       "['.ipynb_checkpoints',\n",
       " '1. Collections.ipynb',\n",
       " '2. OS Module.ipynb',\n",
       " 'Practise.txt']"
      ]
     },
     "execution_count": 16,
     "metadata": {},
     "output_type": "execute_result"
    }
   ],
   "source": [
    "os.listdir()"
   ]
  },
  {
   "cell_type": "code",
   "execution_count": 17,
   "id": "b99e0222",
   "metadata": {},
   "outputs": [],
   "source": [
    "send2trash.send2trash('Practise.txt')"
   ]
  },
  {
   "cell_type": "code",
   "execution_count": 18,
   "id": "33478f49",
   "metadata": {},
   "outputs": [
    {
     "data": {
      "text/plain": [
       "['.ipynb_checkpoints', '1. Collections.ipynb', '2. OS Module.ipynb']"
      ]
     },
     "execution_count": 18,
     "metadata": {},
     "output_type": "execute_result"
    }
   ],
   "source": [
    "os.listdir()"
   ]
  },
  {
   "cell_type": "markdown",
   "id": "b104d234",
   "metadata": {},
   "source": [
    "__________________________________________________________"
   ]
  },
  {
   "cell_type": "markdown",
   "id": "51dae0e1",
   "metadata": {},
   "source": [
    "#### Walking through a Directory:"
   ]
  },
  {
   "cell_type": "markdown",
   "id": "a7beb1be",
   "metadata": {},
   "source": [
    "Often you will just need to \"walk\" through a directory, that is visit every file or folder and check to see if a file is in the directory, and then perhaps do something with that file. Usually recursively walking through every file and folder in a directory would be quite tricky to program, but luckily the os module has a direct method call for this called os.walk(). "
   ]
  },
  {
   "cell_type": "code",
   "execution_count": 25,
   "id": "2b86dfe4",
   "metadata": {},
   "outputs": [
    {
     "data": {
      "text/plain": [
       "'C:\\\\Users\\\\Dino\\\\LearnPython\\\\10. Advanced Python Modules'"
      ]
     },
     "execution_count": 25,
     "metadata": {},
     "output_type": "execute_result"
    }
   ],
   "source": [
    "os.getcwd()"
   ]
  },
  {
   "cell_type": "code",
   "execution_count": 27,
   "id": "9e27074d",
   "metadata": {},
   "outputs": [],
   "source": [
    "file_path = 'C:\\\\Users\\\\Dino\\\\LearnPython\\\\10. Advanced Python Modules\\\\Example_Top_Level'"
   ]
  },
  {
   "cell_type": "code",
   "execution_count": 28,
   "id": "317dba18",
   "metadata": {},
   "outputs": [
    {
     "name": "stdout",
     "output_type": "stream",
     "text": [
      "Currently looking at C:\\Users\\Dino\\LearnPython\\10. Advanced Python Modules\\Example_Top_Level\n",
      "\n",
      "\n",
      "The subfolders are: \n",
      "Subfolder: Mid-Example-One\n",
      "\n",
      "\n",
      "The files are: \n",
      "\t File: Mid-Example.txt\n",
      "\n",
      "\n",
      "Currently looking at C:\\Users\\Dino\\LearnPython\\10. Advanced Python Modules\\Example_Top_Level\\Mid-Example-One\n",
      "\n",
      "\n",
      "The subfolders are: \n",
      "Subfolder: Bottom-Level-One\n",
      "Subfolder: Bottom-Level-Two\n",
      "\n",
      "\n",
      "The files are: \n",
      "\t File: Mid-Level-Doc.txt\n",
      "\n",
      "\n",
      "Currently looking at C:\\Users\\Dino\\LearnPython\\10. Advanced Python Modules\\Example_Top_Level\\Mid-Example-One\\Bottom-Level-One\n",
      "\n",
      "\n",
      "The subfolders are: \n",
      "\n",
      "\n",
      "The files are: \n",
      "\t File: One_Text.txt\n",
      "\n",
      "\n",
      "Currently looking at C:\\Users\\Dino\\LearnPython\\10. Advanced Python Modules\\Example_Top_Level\\Mid-Example-One\\Bottom-Level-Two\n",
      "\n",
      "\n",
      "The subfolders are: \n",
      "\n",
      "\n",
      "The files are: \n",
      "\t File: Bottom-Text-Two.txt\n",
      "\n",
      "\n"
     ]
    }
   ],
   "source": [
    "#tuple unpacking of directories\n",
    "\n",
    "for folder,sub_folders,files in os.walk(file_path):\n",
    "    print(f\"Currently looking at {folder}\")\n",
    "    print('\\n')\n",
    "    print('The subfolders are: ')\n",
    "    for sub_fold in sub_folders:\n",
    "        print(f\"Subfolder: {sub_fold}\")\n",
    "        \n",
    "    print('\\n')\n",
    "    print('The files are: ')\n",
    "    for f in files:\n",
    "        print(f\"\\t File: {f}\")\n",
    "    print('\\n')"
   ]
  },
  {
   "cell_type": "code",
   "execution_count": null,
   "id": "4597f440",
   "metadata": {},
   "outputs": [],
   "source": []
  }
 ],
 "metadata": {
  "kernelspec": {
   "display_name": "Python 3 (ipykernel)",
   "language": "python",
   "name": "python3"
  },
  "language_info": {
   "codemirror_mode": {
    "name": "ipython",
    "version": 3
   },
   "file_extension": ".py",
   "mimetype": "text/x-python",
   "name": "python",
   "nbconvert_exporter": "python",
   "pygments_lexer": "ipython3",
   "version": "3.9.13"
  }
 },
 "nbformat": 4,
 "nbformat_minor": 5
}
