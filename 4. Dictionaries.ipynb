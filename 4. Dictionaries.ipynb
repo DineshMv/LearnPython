{
 "cells": [
  {
   "cell_type": "markdown",
   "id": "bdc946ad",
   "metadata": {},
   "source": [
    "### Dictionaries"
   ]
  },
  {
   "cell_type": "markdown",
   "id": "fce55601",
   "metadata": {},
   "source": [
    "1. Dictionaries are unordered mappings for storing objects - While lists store objects in ordered sequence.\n",
    "\n",
    "2. Dictionaries use a key value pair to store objects without needing to know the index location\n",
    "\n",
    "3. **Syntax: {'Key1':'value1', 'key2':'value2'}**\n",
    "\n",
    "4. Lists are objects fetched from index locations which allows to sort/indexing/slicing. Dictionaries retreive objects based on key name.\n",
    " \n",
    "5. Dictionaries are unordered and cannot be sorted. "
   ]
  },
  {
   "cell_type": "code",
   "execution_count": 4,
   "id": "5aaf5f6b",
   "metadata": {},
   "outputs": [],
   "source": [
    "my_dict = {'key1':'value1', 'key2':'value2'}"
   ]
  },
  {
   "cell_type": "code",
   "execution_count": 5,
   "id": "5337737a",
   "metadata": {},
   "outputs": [
    {
     "data": {
      "text/plain": [
       "{'key1': 'value1', 'key2': 'value2'}"
      ]
     },
     "execution_count": 5,
     "metadata": {},
     "output_type": "execute_result"
    }
   ],
   "source": [
    "my_dict"
   ]
  },
  {
   "cell_type": "code",
   "execution_count": 7,
   "id": "423e3988",
   "metadata": {},
   "outputs": [
    {
     "data": {
      "text/plain": [
       "'value1'"
      ]
     },
     "execution_count": 7,
     "metadata": {},
     "output_type": "execute_result"
    }
   ],
   "source": [
    "my_dict['key1']"
   ]
  },
  {
   "cell_type": "code",
   "execution_count": 12,
   "id": "148f9328",
   "metadata": {},
   "outputs": [],
   "source": [
    "price_lookup = {'apples': 2.99, 'milk': 3.2, 'bread': 4}"
   ]
  },
  {
   "cell_type": "code",
   "execution_count": 14,
   "id": "e9bc3514",
   "metadata": {},
   "outputs": [
    {
     "data": {
      "text/plain": [
       "3.2"
      ]
     },
     "execution_count": 14,
     "metadata": {},
     "output_type": "execute_result"
    }
   ],
   "source": [
    "price_lookup['milk']"
   ]
  },
  {
   "cell_type": "code",
   "execution_count": 1,
   "id": "c8651676",
   "metadata": {},
   "outputs": [],
   "source": [
    "d = {'k1':123, 'k2':[\"apples\", 25, 99, \"dogs\"], 'k3':{'insideKey':100}}\n",
    "#Dictionaries can hold lists as a value"
   ]
  },
  {
   "cell_type": "code",
   "execution_count": 16,
   "id": "eb950d24",
   "metadata": {},
   "outputs": [
    {
     "data": {
      "text/plain": [
       "['apples', 25, 99, 'dogs']"
      ]
     },
     "execution_count": 16,
     "metadata": {},
     "output_type": "execute_result"
    }
   ],
   "source": [
    "d['k2']"
   ]
  },
  {
   "cell_type": "code",
   "execution_count": 23,
   "id": "14195d5f",
   "metadata": {},
   "outputs": [
    {
     "data": {
      "text/plain": [
       "99"
      ]
     },
     "execution_count": 23,
     "metadata": {},
     "output_type": "execute_result"
    }
   ],
   "source": [
    "d['k2'][2]"
   ]
  },
  {
   "cell_type": "code",
   "execution_count": 2,
   "id": "51025d71",
   "metadata": {},
   "outputs": [
    {
     "data": {
      "text/plain": [
       "{'insideKey': 100}"
      ]
     },
     "execution_count": 2,
     "metadata": {},
     "output_type": "execute_result"
    }
   ],
   "source": [
    "d['k3']"
   ]
  },
  {
   "cell_type": "code",
   "execution_count": 3,
   "id": "fe601e20",
   "metadata": {},
   "outputs": [
    {
     "data": {
      "text/plain": [
       "100"
      ]
     },
     "execution_count": 3,
     "metadata": {},
     "output_type": "execute_result"
    }
   ],
   "source": [
    "d['k3']['insideKey']"
   ]
  },
  {
   "cell_type": "code",
   "execution_count": 4,
   "id": "90e78e48",
   "metadata": {},
   "outputs": [],
   "source": [
    "#Example:2\n",
    "\n",
    "dict = {'key1':['a','b','c','d']}"
   ]
  },
  {
   "cell_type": "code",
   "execution_count": 5,
   "id": "4bc0efb3",
   "metadata": {},
   "outputs": [
    {
     "data": {
      "text/plain": [
       "{'key1': ['a', 'b', 'c', 'd']}"
      ]
     },
     "execution_count": 5,
     "metadata": {},
     "output_type": "execute_result"
    }
   ],
   "source": [
    "dict"
   ]
  },
  {
   "cell_type": "code",
   "execution_count": 7,
   "id": "5e0442da",
   "metadata": {},
   "outputs": [],
   "source": [
    "myList = dict['key1']"
   ]
  },
  {
   "cell_type": "code",
   "execution_count": 8,
   "id": "4f3d23d4",
   "metadata": {},
   "outputs": [
    {
     "data": {
      "text/plain": [
       "['a', 'b', 'c', 'd']"
      ]
     },
     "execution_count": 8,
     "metadata": {},
     "output_type": "execute_result"
    }
   ],
   "source": [
    "myList"
   ]
  },
  {
   "cell_type": "code",
   "execution_count": 9,
   "id": "e39ed590",
   "metadata": {},
   "outputs": [],
   "source": [
    "letter = myList[2]"
   ]
  },
  {
   "cell_type": "code",
   "execution_count": 10,
   "id": "412ec633",
   "metadata": {},
   "outputs": [
    {
     "data": {
      "text/plain": [
       "'C'"
      ]
     },
     "execution_count": 10,
     "metadata": {},
     "output_type": "execute_result"
    }
   ],
   "source": [
    "letter.upper()"
   ]
  },
  {
   "cell_type": "code",
   "execution_count": 12,
   "id": "098eed1a",
   "metadata": {},
   "outputs": [
    {
     "data": {
      "text/plain": [
       "'C'"
      ]
     },
     "execution_count": 12,
     "metadata": {},
     "output_type": "execute_result"
    }
   ],
   "source": [
    "#Grab the key value, Go to index -2, convert lower to upper case value\n",
    "dict['key1'][2].upper()\n"
   ]
  },
  {
   "cell_type": "code",
   "execution_count": 13,
   "id": "10a986a1",
   "metadata": {},
   "outputs": [],
   "source": [
    "dict = {'k1':100,'k2':200}"
   ]
  },
  {
   "cell_type": "code",
   "execution_count": 15,
   "id": "17e060b3",
   "metadata": {},
   "outputs": [],
   "source": [
    "dict['k3'] = 300"
   ]
  },
  {
   "cell_type": "code",
   "execution_count": 16,
   "id": "41c779b6",
   "metadata": {},
   "outputs": [
    {
     "data": {
      "text/plain": [
       "{'k1': 100, 'k2': 200, 'k3': 300}"
      ]
     },
     "execution_count": 16,
     "metadata": {},
     "output_type": "execute_result"
    }
   ],
   "source": [
    "dict"
   ]
  },
  {
   "cell_type": "code",
   "execution_count": 17,
   "id": "c17f99d3",
   "metadata": {},
   "outputs": [],
   "source": [
    "#Checking if values in dictionary can be altered\n",
    "dict['k1'] = 10"
   ]
  },
  {
   "cell_type": "code",
   "execution_count": 19,
   "id": "4e8e36da",
   "metadata": {},
   "outputs": [
    {
     "data": {
      "text/plain": [
       "{'k1': 10, 'k2': 200, 'k3': 300}"
      ]
     },
     "execution_count": 19,
     "metadata": {},
     "output_type": "execute_result"
    }
   ],
   "source": [
    "#Key Values in dictionary are mutable\n",
    "dict"
   ]
  },
  {
   "cell_type": "code",
   "execution_count": 20,
   "id": "69f8aa6b",
   "metadata": {},
   "outputs": [],
   "source": [
    "dict['k0'] = 'newvalue'"
   ]
  },
  {
   "cell_type": "code",
   "execution_count": 21,
   "id": "72f46d2b",
   "metadata": {},
   "outputs": [
    {
     "data": {
      "text/plain": [
       "{'k1': 10, 'k2': 200, 'k3': 300, 'k0': 'newvalue'}"
      ]
     },
     "execution_count": 21,
     "metadata": {},
     "output_type": "execute_result"
    }
   ],
   "source": [
    "dict"
   ]
  },
  {
   "cell_type": "code",
   "execution_count": 22,
   "id": "ce994a18",
   "metadata": {},
   "outputs": [
    {
     "data": {
      "text/plain": [
       "dict_keys(['k1', 'k2', 'k3', 'k0'])"
      ]
     },
     "execution_count": 22,
     "metadata": {},
     "output_type": "execute_result"
    }
   ],
   "source": [
    "#To see all the keys\n",
    "dict.keys()"
   ]
  },
  {
   "cell_type": "code",
   "execution_count": 23,
   "id": "a5bac84a",
   "metadata": {},
   "outputs": [
    {
     "data": {
      "text/plain": [
       "dict_values([10, 200, 300, 'newvalue'])"
      ]
     },
     "execution_count": 23,
     "metadata": {},
     "output_type": "execute_result"
    }
   ],
   "source": [
    "#To see all the values\n",
    "dict.values()"
   ]
  },
  {
   "cell_type": "code",
   "execution_count": 25,
   "id": "7a14dabd",
   "metadata": {},
   "outputs": [
    {
     "data": {
      "text/plain": [
       "dict_items([('k1', 10), ('k2', 200), ('k3', 300), ('k0', 'newvalue')])"
      ]
     },
     "execution_count": 25,
     "metadata": {},
     "output_type": "execute_result"
    }
   ],
   "source": [
    "#To see all the key pairs (Tuples)\n",
    "dict.items()"
   ]
  }
 ],
 "metadata": {
  "kernelspec": {
   "display_name": "Python 3 (ipykernel)",
   "language": "python",
   "name": "python3"
  },
  "language_info": {
   "codemirror_mode": {
    "name": "ipython",
    "version": 3
   },
   "file_extension": ".py",
   "mimetype": "text/x-python",
   "name": "python",
   "nbconvert_exporter": "python",
   "pygments_lexer": "ipython3",
   "version": "3.9.12"
  }
 },
 "nbformat": 4,
 "nbformat_minor": 5
}
