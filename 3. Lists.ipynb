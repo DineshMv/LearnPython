{
 "cells": [
  {
   "cell_type": "markdown",
   "id": "cb3fb6b4",
   "metadata": {},
   "source": [
    "### Lists:"
   ]
  },
  {
   "cell_type": "markdown",
   "id": "1de77a71",
   "metadata": {},
   "source": [
    "1. Lists are ordered sequences that hold a variety of object types.\n",
    "2. Notation: [ , , , , ]\n",
    "3. Ex: [1,2,3,5,7]\n",
    "4. Lists support indexing and slicing!\n",
    "5. Lists can be nested and a variety of methods can be applied on lists"
   ]
  },
  {
   "cell_type": "code",
   "execution_count": 1,
   "id": "b39f8635",
   "metadata": {},
   "outputs": [],
   "source": [
    "my_list = [1,4,7,9,2]"
   ]
  },
  {
   "cell_type": "code",
   "execution_count": 2,
   "id": "c634196a",
   "metadata": {},
   "outputs": [
    {
     "data": {
      "text/plain": [
       "[1, 4, 7, 9, 2]"
      ]
     },
     "execution_count": 2,
     "metadata": {},
     "output_type": "execute_result"
    }
   ],
   "source": [
    "my_list"
   ]
  },
  {
   "cell_type": "code",
   "execution_count": 3,
   "id": "86687204",
   "metadata": {},
   "outputs": [],
   "source": [
    "my_list = [6, \"Oranges\", \"Bucky\", 123.67, 'A']"
   ]
  },
  {
   "cell_type": "code",
   "execution_count": 4,
   "id": "b91c1d54",
   "metadata": {},
   "outputs": [
    {
     "data": {
      "text/plain": [
       "[6, 'Oranges', 'Bucky', 123.67, 'A']"
      ]
     },
     "execution_count": 4,
     "metadata": {},
     "output_type": "execute_result"
    }
   ],
   "source": [
    "my_list\n"
   ]
  },
  {
   "cell_type": "code",
   "execution_count": 9,
   "id": "c9a16ae9",
   "metadata": {},
   "outputs": [
    {
     "data": {
      "text/plain": [
       "5"
      ]
     },
     "execution_count": 9,
     "metadata": {},
     "output_type": "execute_result"
    }
   ],
   "source": [
    "#Method length is used\n",
    "len(my_list) "
   ]
  },
  {
   "cell_type": "code",
   "execution_count": 7,
   "id": "930a1da6",
   "metadata": {},
   "outputs": [
    {
     "data": {
      "text/plain": [
       "6"
      ]
     },
     "execution_count": 7,
     "metadata": {},
     "output_type": "execute_result"
    }
   ],
   "source": [
    "#Indexing list\n",
    "my_list[0]"
   ]
  },
  {
   "cell_type": "code",
   "execution_count": 10,
   "id": "4d725177",
   "metadata": {},
   "outputs": [
    {
     "data": {
      "text/plain": [
       "['Oranges', 'Bucky', 123.67, 'A']"
      ]
     },
     "execution_count": 10,
     "metadata": {},
     "output_type": "execute_result"
    }
   ],
   "source": [
    "#Slicing the list\n",
    "my_list[1:]"
   ]
  },
  {
   "cell_type": "code",
   "execution_count": 11,
   "id": "4cfdfdc6",
   "metadata": {},
   "outputs": [
    {
     "data": {
      "text/plain": [
       "[6, 'Oranges', 'Bucky', 123.67, 'A']"
      ]
     },
     "execution_count": 11,
     "metadata": {},
     "output_type": "execute_result"
    }
   ],
   "source": [
    "my_list"
   ]
  },
  {
   "cell_type": "code",
   "execution_count": 12,
   "id": "4ead89dd",
   "metadata": {},
   "outputs": [],
   "source": [
    "my_list_1 = [\"one\", 'two', 5]"
   ]
  },
  {
   "cell_type": "code",
   "execution_count": 13,
   "id": "e8e73ad2",
   "metadata": {},
   "outputs": [],
   "source": [
    "new_list = my_list + my_list_1"
   ]
  },
  {
   "cell_type": "code",
   "execution_count": 14,
   "id": "a0c63487",
   "metadata": {},
   "outputs": [
    {
     "data": {
      "text/plain": [
       "[6, 'Oranges', 'Bucky', 123.67, 'A', 'one', 'two', 5]"
      ]
     },
     "execution_count": 14,
     "metadata": {},
     "output_type": "execute_result"
    }
   ],
   "source": [
    "new_list"
   ]
  },
  {
   "cell_type": "code",
   "execution_count": 15,
   "id": "d5e4e921",
   "metadata": {},
   "outputs": [],
   "source": [
    "#Lists are Mutable. Meaning, elements in the list can be changed.\n",
    "new_list[0] = 'Apple'"
   ]
  },
  {
   "cell_type": "code",
   "execution_count": 16,
   "id": "d66e3c5c",
   "metadata": {},
   "outputs": [
    {
     "data": {
      "text/plain": [
       "['Apple', 'Oranges', 'Bucky', 123.67, 'A', 'one', 'two', 5]"
      ]
     },
     "execution_count": 16,
     "metadata": {},
     "output_type": "execute_result"
    }
   ],
   "source": [
    "\n",
    "new_list"
   ]
  },
  {
   "cell_type": "code",
   "execution_count": 17,
   "id": "777842bc",
   "metadata": {},
   "outputs": [
    {
     "data": {
      "text/plain": [
       "'two'"
      ]
     },
     "execution_count": 17,
     "metadata": {},
     "output_type": "execute_result"
    }
   ],
   "source": [
    "new_list.pop(6)"
   ]
  },
  {
   "cell_type": "code",
   "execution_count": 18,
   "id": "e4863bec",
   "metadata": {},
   "outputs": [],
   "source": [
    "new_list.append(3)"
   ]
  },
  {
   "cell_type": "code",
   "execution_count": 19,
   "id": "4e336133",
   "metadata": {},
   "outputs": [
    {
     "data": {
      "text/plain": [
       "['Apple', 'Oranges', 'Bucky', 123.67, 'A', 'one', 5, 3]"
      ]
     },
     "execution_count": 19,
     "metadata": {},
     "output_type": "execute_result"
    }
   ],
   "source": [
    "new_list"
   ]
  },
  {
   "cell_type": "code",
   "execution_count": 21,
   "id": "5d68e581",
   "metadata": {},
   "outputs": [
    {
     "data": {
      "text/plain": [
       "4"
      ]
     },
     "execution_count": 21,
     "metadata": {},
     "output_type": "execute_result"
    }
   ],
   "source": [
    "new_list.index('A')"
   ]
  },
  {
   "cell_type": "code",
   "execution_count": 27,
   "id": "a1e84f66",
   "metadata": {},
   "outputs": [],
   "source": [
    "new_list.reverse()"
   ]
  },
  {
   "cell_type": "code",
   "execution_count": 28,
   "id": "3966697d",
   "metadata": {},
   "outputs": [
    {
     "data": {
      "text/plain": [
       "[3, 5, 'one', 'A', 123.67, 'Bucky', 'Oranges', 'Apple']"
      ]
     },
     "execution_count": 28,
     "metadata": {},
     "output_type": "execute_result"
    }
   ],
   "source": [
    "new_list"
   ]
  },
  {
   "cell_type": "code",
   "execution_count": 29,
   "id": "6bec66a0",
   "metadata": {},
   "outputs": [],
   "source": [
    "new_list.remove('A')"
   ]
  },
  {
   "cell_type": "code",
   "execution_count": 30,
   "id": "bb739dd1",
   "metadata": {},
   "outputs": [
    {
     "data": {
      "text/plain": [
       "[3, 5, 'one', 123.67, 'Bucky', 'Oranges', 'Apple']"
      ]
     },
     "execution_count": 30,
     "metadata": {},
     "output_type": "execute_result"
    }
   ],
   "source": [
    "new_list"
   ]
  },
  {
   "cell_type": "code",
   "execution_count": 32,
   "id": "14e28ad5",
   "metadata": {},
   "outputs": [
    {
     "data": {
      "text/plain": [
       "'Oranges'"
      ]
     },
     "execution_count": 32,
     "metadata": {},
     "output_type": "execute_result"
    }
   ],
   "source": [
    "new_list.pop(5)"
   ]
  },
  {
   "cell_type": "code",
   "execution_count": 33,
   "id": "d738da27",
   "metadata": {},
   "outputs": [
    {
     "data": {
      "text/plain": [
       "[3, 5, 'one', 123.67, 'Bucky', 'Apple']"
      ]
     },
     "execution_count": 33,
     "metadata": {},
     "output_type": "execute_result"
    }
   ],
   "source": [
    "new_list"
   ]
  },
  {
   "cell_type": "code",
   "execution_count": 34,
   "id": "e08c4a34",
   "metadata": {},
   "outputs": [
    {
     "data": {
      "text/plain": [
       "'Apple'"
      ]
     },
     "execution_count": 34,
     "metadata": {},
     "output_type": "execute_result"
    }
   ],
   "source": [
    "new_list.pop(-1)"
   ]
  },
  {
   "cell_type": "code",
   "execution_count": 48,
   "id": "5e683e9e",
   "metadata": {},
   "outputs": [],
   "source": [
    "new_list = ['A', 'M',\"F\",'D','E']"
   ]
  },
  {
   "cell_type": "code",
   "execution_count": 36,
   "id": "b8adb63d",
   "metadata": {},
   "outputs": [],
   "source": [
    "num_list = [5,9,2,1,8]"
   ]
  },
  {
   "cell_type": "code",
   "execution_count": 49,
   "id": "0031b62f",
   "metadata": {},
   "outputs": [],
   "source": [
    "new_list.sort()\n",
    "my_sorted_list = new_list"
   ]
  },
  {
   "cell_type": "code",
   "execution_count": 50,
   "id": "b6801f79",
   "metadata": {},
   "outputs": [
    {
     "data": {
      "text/plain": [
       "['A', 'D', 'E', 'F', 'M']"
      ]
     },
     "execution_count": 50,
     "metadata": {},
     "output_type": "execute_result"
    }
   ],
   "source": [
    "my_sorted_list"
   ]
  },
  {
   "cell_type": "code",
   "execution_count": 40,
   "id": "4d01823e",
   "metadata": {},
   "outputs": [],
   "source": [
    "num_list.sort()"
   ]
  },
  {
   "cell_type": "code",
   "execution_count": 41,
   "id": "aa6e70af",
   "metadata": {},
   "outputs": [
    {
     "data": {
      "text/plain": [
       "[1, 2, 5, 8, 9]"
      ]
     },
     "execution_count": 41,
     "metadata": {},
     "output_type": "execute_result"
    }
   ],
   "source": [
    "num_list"
   ]
  },
  {
   "cell_type": "code",
   "execution_count": 42,
   "id": "b2594d91",
   "metadata": {},
   "outputs": [
    {
     "data": {
      "text/plain": [
       "list"
      ]
     },
     "execution_count": 42,
     "metadata": {},
     "output_type": "execute_result"
    }
   ],
   "source": [
    "type(num_list)"
   ]
  },
  {
   "cell_type": "code",
   "execution_count": null,
   "id": "4dd0fdfd",
   "metadata": {},
   "outputs": [],
   "source": []
  }
 ],
 "metadata": {
  "kernelspec": {
   "display_name": "Python 3 (ipykernel)",
   "language": "python",
   "name": "python3"
  },
  "language_info": {
   "codemirror_mode": {
    "name": "ipython",
    "version": 3
   },
   "file_extension": ".py",
   "mimetype": "text/x-python",
   "name": "python",
   "nbconvert_exporter": "python",
   "pygments_lexer": "ipython3",
   "version": "3.9.12"
  }
 },
 "nbformat": 4,
 "nbformat_minor": 5
}
