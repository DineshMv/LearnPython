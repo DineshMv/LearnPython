{
 "cells": [
  {
   "cell_type": "markdown",
   "id": "e217d5b1",
   "metadata": {},
   "source": [
    "#### Methods:"
   ]
  },
  {
   "cell_type": "markdown",
   "id": "9b2a19c5",
   "metadata": {},
   "source": [
    "1. Methods are functions that are built in objects"
   ]
  },
  {
   "cell_type": "code",
   "execution_count": 1,
   "id": "67dd44ac",
   "metadata": {},
   "outputs": [],
   "source": [
    "mylist = [1,2,3,4,5]"
   ]
  },
  {
   "cell_type": "code",
   "execution_count": 2,
   "id": "6cc751ef",
   "metadata": {},
   "outputs": [],
   "source": [
    "mylist.append(6)"
   ]
  },
  {
   "cell_type": "code",
   "execution_count": 3,
   "id": "ccf140be",
   "metadata": {},
   "outputs": [
    {
     "data": {
      "text/plain": [
       "[1, 2, 3, 4, 5, 6]"
      ]
     },
     "execution_count": 3,
     "metadata": {},
     "output_type": "execute_result"
    }
   ],
   "source": [
    "mylist"
   ]
  },
  {
   "cell_type": "code",
   "execution_count": 5,
   "id": "de8a0595",
   "metadata": {},
   "outputs": [
    {
     "data": {
      "text/plain": [
       "6"
      ]
     },
     "execution_count": 5,
     "metadata": {},
     "output_type": "execute_result"
    }
   ],
   "source": [
    "mylist.pop()"
   ]
  },
  {
   "cell_type": "code",
   "execution_count": 6,
   "id": "1a091d20",
   "metadata": {},
   "outputs": [
    {
     "data": {
      "text/plain": [
       "[1, 2, 3, 4, 5]"
      ]
     },
     "execution_count": 6,
     "metadata": {},
     "output_type": "execute_result"
    }
   ],
   "source": [
    "mylist"
   ]
  },
  {
   "cell_type": "code",
   "execution_count": 12,
   "id": "f6b9c3dd",
   "metadata": {},
   "outputs": [
    {
     "name": "stdout",
     "output_type": "stream",
     "text": [
      "Help on built-in function insert:\n",
      "\n",
      "insert(index, object, /) method of builtins.list instance\n",
      "    Insert object before index.\n",
      "\n"
     ]
    }
   ],
   "source": [
    "#Get documentation:\n",
    "\n",
    "help(mylist.insert)"
   ]
  },
  {
   "cell_type": "markdown",
   "id": "97a80ded",
   "metadata": {},
   "source": [
    "#Documentation: https://docs.python.org/3/"
   ]
  },
  {
   "cell_type": "markdown",
   "id": "46c39448",
   "metadata": {},
   "source": [
    "#### Functions:"
   ]
  },
  {
   "cell_type": "markdown",
   "id": "f8daf9be",
   "metadata": {},
   "source": [
    "**Functions** of python allows to create blocks of code that can be easily executed mytimes, allowing to reiterate multiple times, without needing to re-write the code."
   ]
  },
  {
   "cell_type": "markdown",
   "id": "38597e4f",
   "metadata": {},
   "source": [
    "### 'def' Keyword:"
   ]
  },
  {
   "cell_type": "code",
   "execution_count": 1,
   "id": "400d435e",
   "metadata": {},
   "outputs": [
    {
     "name": "stdout",
     "output_type": "stream",
     "text": [
      "Hello!\n"
     ]
    }
   ],
   "source": [
    "#def name_of_function():\n",
    "\n",
    "#def tells python that we are going to write a function\n",
    "# followed by name of function in snake case: all lowercase with _ between words\n",
    "\n",
    "#parameters will be passed inside() as per requirement\n",
    "\n",
    "'''\n",
    "    Doc  String - explain the purpose of function\n",
    "'''\n",
    "def name_of_function():\n",
    "    '''\n",
    "    Doc  String - explain the purpose of function\n",
    "    '''\n",
    "    print('Hello!')\n",
    "\n",
    "name_of_function()"
   ]
  },
  {
   "cell_type": "code",
   "execution_count": 5,
   "id": "4ef68b59",
   "metadata": {},
   "outputs": [
    {
     "name": "stdout",
     "output_type": "stream",
     "text": [
      "Hello Bucky\n"
     ]
    }
   ],
   "source": [
    "def name_of_function(name):\n",
    "    print('Hello ' + name)\n",
    "\n",
    "name_of_function('Bucky')"
   ]
  },
  {
   "cell_type": "markdown",
   "id": "f15be6a4",
   "metadata": {},
   "source": [
    "**'return'** keyword:"
   ]
  },
  {
   "cell_type": "markdown",
   "id": "08f17518",
   "metadata": {},
   "source": [
    "In general, allows to assign o/p of function to a new variable"
   ]
  },
  {
   "cell_type": "code",
   "execution_count": 8,
   "id": "52477bd6",
   "metadata": {},
   "outputs": [
    {
     "data": {
      "text/plain": [
       "15"
      ]
     },
     "execution_count": 8,
     "metadata": {},
     "output_type": "execute_result"
    }
   ],
   "source": [
    "def add_function(num1, num2):\n",
    "    return num1+num2\n",
    "\n",
    "result = add_function(5,10)\n",
    "#Result is a var that allows to save result to a variable\n",
    "result"
   ]
  }
 ],
 "metadata": {
  "kernelspec": {
   "display_name": "Python 3 (ipykernel)",
   "language": "python",
   "name": "python3"
  },
  "language_info": {
   "codemirror_mode": {
    "name": "ipython",
    "version": 3
   },
   "file_extension": ".py",
   "mimetype": "text/x-python",
   "name": "python",
   "nbconvert_exporter": "python",
   "pygments_lexer": "ipython3",
   "version": "3.9.12"
  }
 },
 "nbformat": 4,
 "nbformat_minor": 5
}
