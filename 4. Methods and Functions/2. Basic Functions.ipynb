{
 "cells": [
  {
   "cell_type": "markdown",
   "id": "af63f655",
   "metadata": {},
   "source": [
    "### Introduction to Functions\n",
    "\n",
    "**What is a function?**\n",
    "\n",
    "Formally, a function is a useful device that groups together a set of statements so they can be run more than once. They can also let us specify parameters that can serve as inputs to the functions.\n",
    "\n",
    "On a more fundamental level, functions allow us to not have to repeatedly write the same code again and again. If you remember back to the lessons on strings and lists, remember that we used a function len() to get the length of a string. Since checking the length of a sequence is a common task you would want to write a function that can do this repeatedly at command.\n",
    "\n",
    "Functions will be one of most basic levels of reusing code in Python, and it will also allow us to start thinking of program design (we will dive much deeper into the ideas of design when we learn about Object Oriented Programming)."
   ]
  },
  {
   "cell_type": "markdown",
   "id": "b2fd76f3",
   "metadata": {},
   "source": [
    "**Why even use functions?**\n",
    "\n",
    "Put simply, you should use functions when you plan on using a block of code multiple times. The function will allow you to call the same block of code without having to write it multiple times. This in turn will allow you to create more complex Python scripts. To really understand this though, we should actually write our own functions!"
   ]
  },
  {
   "cell_type": "markdown",
   "id": "609a1ecb",
   "metadata": {},
   "source": [
    "**Function Topics:**\n",
    "- def keyword\n",
    "- simple example of a function\n",
    "- calling a function with ()\n",
    "- accepting parameters\n",
    "- print versus return\n",
    "- adding in logic inside a function\n",
    "- multiple returns inside a function\n",
    "- adding in loops inside a function\n",
    "- tuple unpacking\n",
    "- interactions between functions"
   ]
  },
  {
   "cell_type": "markdown",
   "id": "862b41df",
   "metadata": {},
   "source": [
    "### def Keyword:"
   ]
  },
  {
   "cell_type": "code",
   "execution_count": 1,
   "id": "8d7e3326",
   "metadata": {},
   "outputs": [],
   "source": [
    "#Syntax: \n",
    "def name_of_function(arg1,arg2):\n",
    "    '''\n",
    "    This is where the function's Document String (docstring) goes.\n",
    "    When you call help() on your function it will be printed out.\n",
    "    '''\n",
    "    # Do stuff here\n",
    "    # Return desired result"
   ]
  },
  {
   "cell_type": "code",
   "execution_count": 2,
   "id": "e6d87543",
   "metadata": {},
   "outputs": [
    {
     "name": "stdout",
     "output_type": "stream",
     "text": [
      "Hello Bucky!\n"
     ]
    }
   ],
   "source": [
    "#Example:\n",
    "def greeting(name = 'Default'):\n",
    "    print(f'Hello {name}')\n",
    "    \n",
    "greeting('Bucky!')"
   ]
  },
  {
   "cell_type": "code",
   "execution_count": 3,
   "id": "003e1fc8",
   "metadata": {},
   "outputs": [
    {
     "name": "stdout",
     "output_type": "stream",
     "text": [
      "Hello Default\n"
     ]
    }
   ],
   "source": [
    "greeting()"
   ]
  },
  {
   "cell_type": "code",
   "execution_count": 4,
   "id": "34dade3e",
   "metadata": {},
   "outputs": [],
   "source": [
    "def add_num(num1,num2):\n",
    "    return num1 + num2"
   ]
  },
  {
   "cell_type": "code",
   "execution_count": 5,
   "id": "9e2d79ba",
   "metadata": {},
   "outputs": [],
   "source": [
    "result = add_num(3,6)"
   ]
  },
  {
   "cell_type": "code",
   "execution_count": 6,
   "id": "4df2e8f5",
   "metadata": {},
   "outputs": [
    {
     "data": {
      "text/plain": [
       "9"
      ]
     },
     "execution_count": 6,
     "metadata": {},
     "output_type": "execute_result"
    }
   ],
   "source": [
    "result"
   ]
  },
  {
   "cell_type": "code",
   "execution_count": 7,
   "id": "981ef878",
   "metadata": {},
   "outputs": [],
   "source": [
    "def print_result(a,b):\n",
    "    print(a+b)"
   ]
  },
  {
   "cell_type": "code",
   "execution_count": 8,
   "id": "f88b5f47",
   "metadata": {},
   "outputs": [],
   "source": [
    "def return_result(a,b):\n",
    "    return(a+b)"
   ]
  },
  {
   "cell_type": "code",
   "execution_count": 9,
   "id": "bcdbc4ae",
   "metadata": {},
   "outputs": [
    {
     "name": "stdout",
     "output_type": "stream",
     "text": [
      "30\n"
     ]
    }
   ],
   "source": [
    "x = print_result(10,20)"
   ]
  },
  {
   "cell_type": "code",
   "execution_count": 10,
   "id": "8da11f1e",
   "metadata": {},
   "outputs": [
    {
     "data": {
      "text/plain": [
       "NoneType"
      ]
     },
     "execution_count": 10,
     "metadata": {},
     "output_type": "execute_result"
    }
   ],
   "source": [
    "type(x)"
   ]
  },
  {
   "cell_type": "code",
   "execution_count": 11,
   "id": "09faf41e",
   "metadata": {},
   "outputs": [],
   "source": [
    "y = return_result(10,20)"
   ]
  },
  {
   "cell_type": "code",
   "execution_count": 12,
   "id": "0da2e1f1",
   "metadata": {},
   "outputs": [
    {
     "data": {
      "text/plain": [
       "30"
      ]
     },
     "execution_count": 12,
     "metadata": {},
     "output_type": "execute_result"
    }
   ],
   "source": [
    "y"
   ]
  },
  {
   "cell_type": "code",
   "execution_count": 13,
   "id": "9c47f003",
   "metadata": {},
   "outputs": [
    {
     "data": {
      "text/plain": [
       "int"
      ]
     },
     "execution_count": 13,
     "metadata": {},
     "output_type": "execute_result"
    }
   ],
   "source": [
    "type(y)"
   ]
  },
  {
   "cell_type": "code",
   "execution_count": 14,
   "id": "b78a741c",
   "metadata": {},
   "outputs": [],
   "source": [
    "def sum_of_numbers(a,b):\n",
    "    print(a+b)\n",
    "    return(a+b)"
   ]
  },
  {
   "cell_type": "code",
   "execution_count": 15,
   "id": "44ed6e23",
   "metadata": {},
   "outputs": [
    {
     "name": "stdout",
     "output_type": "stream",
     "text": [
      "30\n"
     ]
    }
   ],
   "source": [
    "result = sum_of_numbers(10,20)"
   ]
  },
  {
   "cell_type": "code",
   "execution_count": 16,
   "id": "ad42cada",
   "metadata": {},
   "outputs": [
    {
     "data": {
      "text/plain": [
       "30"
      ]
     },
     "execution_count": 16,
     "metadata": {},
     "output_type": "execute_result"
    }
   ],
   "source": [
    "result"
   ]
  },
  {
   "cell_type": "code",
   "execution_count": 17,
   "id": "bf7c749e",
   "metadata": {},
   "outputs": [
    {
     "name": "stdout",
     "output_type": "stream",
     "text": [
      "1020\n"
     ]
    },
    {
     "data": {
      "text/plain": [
       "'1020'"
      ]
     },
     "execution_count": 17,
     "metadata": {},
     "output_type": "execute_result"
    }
   ],
   "source": [
    "sum_of_numbers('10','20')\n",
    "#numbers are passed as strings so both args will be appended"
   ]
  },
  {
   "cell_type": "markdown",
   "id": "66342ee9",
   "metadata": {},
   "source": [
    "**What is the difference between return and print?**\n",
    "\n",
    "The return keyword allows you to actually save the result of the output of a function as a variable. The print() function simply displays the output to you, but doesn't save it for future use."
   ]
  },
  {
   "cell_type": "markdown",
   "id": "20e36187",
   "metadata": {},
   "source": [
    "*************************************"
   ]
  },
  {
   "cell_type": "code",
   "execution_count": 19,
   "id": "636cc506",
   "metadata": {},
   "outputs": [
    {
     "data": {
      "text/plain": [
       "True"
      ]
     },
     "execution_count": 19,
     "metadata": {},
     "output_type": "execute_result"
    }
   ],
   "source": [
    "def even_check(num):\n",
    "#     if(num%2==0):\n",
    "#         print(f'Number {num} is even')\n",
    "    return num%2==0\n",
    "\n",
    "even_check(20)"
   ]
  },
  {
   "cell_type": "code",
   "execution_count": 20,
   "id": "346d8ed6",
   "metadata": {},
   "outputs": [
    {
     "data": {
      "text/plain": [
       "False"
      ]
     },
     "execution_count": 20,
     "metadata": {},
     "output_type": "execute_result"
    }
   ],
   "source": [
    "even_check(21)"
   ]
  },
  {
   "cell_type": "code",
   "execution_count": 35,
   "id": "2df41fd5",
   "metadata": {},
   "outputs": [],
   "source": [
    "#Function returns true if any number in the list is true:\n",
    "\n",
    "def check_even_list(num_list):\n",
    "    # Go through each number\n",
    "    for number in num_list:\n",
    "        # Once we get a \"hit\" on an even number, we return True\n",
    "        if number % 2 == 0:\n",
    "            return True\n",
    "        # Don't do anything if its not even\n",
    "        else:\n",
    "            pass\n",
    "    # Notice the indentation! This ensures we run through the entire for loop    \n",
    "    return False"
   ]
  },
  {
   "cell_type": "code",
   "execution_count": 36,
   "id": "b6e9fd25",
   "metadata": {},
   "outputs": [
    {
     "data": {
      "text/plain": [
       "True"
      ]
     },
     "execution_count": 36,
     "metadata": {},
     "output_type": "execute_result"
    }
   ],
   "source": [
    "check_even_list([1,3,5,6,7,9])\n"
   ]
  },
  {
   "cell_type": "code",
   "execution_count": 37,
   "id": "355350f1",
   "metadata": {},
   "outputs": [
    {
     "data": {
      "text/plain": [
       "False"
      ]
     },
     "execution_count": 37,
     "metadata": {},
     "output_type": "execute_result"
    }
   ],
   "source": [
    "check_even_list([1,3,5,7,9])\n",
    "#list doesn't have an even number, so it will pass to begin"
   ]
  },
  {
   "cell_type": "code",
   "execution_count": 38,
   "id": "a5f5aede",
   "metadata": {},
   "outputs": [
    {
     "data": {
      "text/plain": [
       "True"
      ]
     },
     "execution_count": 38,
     "metadata": {},
     "output_type": "execute_result"
    }
   ],
   "source": [
    "check_even_list([1,3,7,8])"
   ]
  },
  {
   "cell_type": "code",
   "execution_count": 44,
   "id": "a9ab9a63",
   "metadata": {},
   "outputs": [],
   "source": [
    "#Function returns all even numbers in the list\n",
    "\n",
    "def check_even_list(num_list):\n",
    "    #placeholder variables\n",
    "    even_numbers = []\n",
    "    \n",
    "    # Go through each number\n",
    "    for number in num_list:\n",
    "        # Once we get a \"hit\" on an even number, we append the even number\n",
    "        if number % 2 == 0:\n",
    "            even_numbers.append(number)\n",
    "        # Don't do anything if its not even\n",
    "        else:\n",
    "            pass\n",
    "    # Notice the indentation! This ensures we run through the entire for loop    \n",
    "    return even_numbers"
   ]
  },
  {
   "cell_type": "code",
   "execution_count": 45,
   "id": "b0d3c27b",
   "metadata": {},
   "outputs": [
    {
     "data": {
      "text/plain": [
       "[6, 8]"
      ]
     },
     "execution_count": 45,
     "metadata": {},
     "output_type": "execute_result"
    }
   ],
   "source": [
    "check_even_list([1,3,5,6,7,8])"
   ]
  },
  {
   "cell_type": "code",
   "execution_count": 46,
   "id": "d76c5bff",
   "metadata": {},
   "outputs": [
    {
     "data": {
      "text/plain": [
       "[]"
      ]
     },
     "execution_count": 46,
     "metadata": {},
     "output_type": "execute_result"
    }
   ],
   "source": [
    "check_even_list([1,3,5])"
   ]
  },
  {
   "cell_type": "code",
   "execution_count": null,
   "id": "5000fd4a",
   "metadata": {},
   "outputs": [],
   "source": []
  }
 ],
 "metadata": {
  "kernelspec": {
   "display_name": "Python 3 (ipykernel)",
   "language": "python",
   "name": "python3"
  },
  "language_info": {
   "codemirror_mode": {
    "name": "ipython",
    "version": 3
   },
   "file_extension": ".py",
   "mimetype": "text/x-python",
   "name": "python",
   "nbconvert_exporter": "python",
   "pygments_lexer": "ipython3",
   "version": "3.9.12"
  }
 },
 "nbformat": 4,
 "nbformat_minor": 5
}
