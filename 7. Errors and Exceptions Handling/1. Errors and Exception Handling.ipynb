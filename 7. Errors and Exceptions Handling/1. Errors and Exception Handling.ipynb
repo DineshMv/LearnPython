{
 "cells": [
  {
   "cell_type": "markdown",
   "id": "51d9f611",
   "metadata": {},
   "source": [
    "### Errors and Exception Handling"
   ]
  },
  {
   "cell_type": "markdown",
   "id": "363baf59",
   "metadata": {},
   "source": [
    "3 key words for Errors and Exception Handling: \n",
    "\n",
    "**try**: \n",
    "    This is the block of code to attempted (may cause an error)\n",
    "    \n",
    "**except**:\n",
    "    This block of code executes, if there is any error in try block\n",
    "    \n",
    "**finally**:\n",
    "    A final block of code to be executed, regardless of error"
   ]
  },
  {
   "cell_type": "code",
   "execution_count": 2,
   "id": "f4de5a7c",
   "metadata": {},
   "outputs": [
    {
     "name": "stdout",
     "output_type": "stream",
     "text": [
      "30\n"
     ]
    }
   ],
   "source": [
    "def add(n1,n2):\n",
    "    print (n1+n2)\n",
    "\n",
    "add(10,20)"
   ]
  },
  {
   "cell_type": "code",
   "execution_count": 3,
   "id": "da07b51e",
   "metadata": {},
   "outputs": [],
   "source": [
    "n1 = 10"
   ]
  },
  {
   "cell_type": "code",
   "execution_count": 4,
   "id": "752d3cfb",
   "metadata": {},
   "outputs": [
    {
     "name": "stdout",
     "output_type": "stream",
     "text": [
      "Please provide a number n2:20\n"
     ]
    }
   ],
   "source": [
    "n2 = input('Please provide a number n2:')"
   ]
  },
  {
   "cell_type": "code",
   "execution_count": 6,
   "id": "4d72ed23",
   "metadata": {},
   "outputs": [
    {
     "ename": "TypeError",
     "evalue": "unsupported operand type(s) for +: 'int' and 'str'",
     "output_type": "error",
     "traceback": [
      "\u001b[1;31m---------------------------------------------------------------------------\u001b[0m",
      "\u001b[1;31mTypeError\u001b[0m                                 Traceback (most recent call last)",
      "\u001b[1;32m~\\AppData\\Local\\Temp\\ipykernel_5584\\1890595668.py\u001b[0m in \u001b[0;36m<module>\u001b[1;34m\u001b[0m\n\u001b[1;32m----> 1\u001b[1;33m \u001b[0madd\u001b[0m\u001b[1;33m(\u001b[0m\u001b[0mn1\u001b[0m\u001b[1;33m,\u001b[0m\u001b[0mn2\u001b[0m\u001b[1;33m)\u001b[0m\u001b[1;33m\u001b[0m\u001b[1;33m\u001b[0m\u001b[0m\n\u001b[0m",
      "\u001b[1;32m~\\AppData\\Local\\Temp\\ipykernel_5584\\2957674459.py\u001b[0m in \u001b[0;36madd\u001b[1;34m(n1, n2)\u001b[0m\n\u001b[0;32m      1\u001b[0m \u001b[1;32mdef\u001b[0m \u001b[0madd\u001b[0m\u001b[1;33m(\u001b[0m\u001b[0mn1\u001b[0m\u001b[1;33m,\u001b[0m\u001b[0mn2\u001b[0m\u001b[1;33m)\u001b[0m\u001b[1;33m:\u001b[0m\u001b[1;33m\u001b[0m\u001b[1;33m\u001b[0m\u001b[0m\n\u001b[1;32m----> 2\u001b[1;33m     \u001b[0mprint\u001b[0m \u001b[1;33m(\u001b[0m\u001b[0mn1\u001b[0m\u001b[1;33m+\u001b[0m\u001b[0mn2\u001b[0m\u001b[1;33m)\u001b[0m\u001b[1;33m\u001b[0m\u001b[1;33m\u001b[0m\u001b[0m\n\u001b[0m\u001b[0;32m      3\u001b[0m \u001b[1;33m\u001b[0m\u001b[0m\n\u001b[0;32m      4\u001b[0m \u001b[0madd\u001b[0m\u001b[1;33m(\u001b[0m\u001b[1;36m10\u001b[0m\u001b[1;33m,\u001b[0m\u001b[1;36m20\u001b[0m\u001b[1;33m)\u001b[0m\u001b[1;33m\u001b[0m\u001b[1;33m\u001b[0m\u001b[0m\n",
      "\u001b[1;31mTypeError\u001b[0m: unsupported operand type(s) for +: 'int' and 'str'"
     ]
    }
   ],
   "source": [
    "add(n1,n2)"
   ]
  },
  {
   "cell_type": "code",
   "execution_count": 7,
   "id": "29a02923",
   "metadata": {},
   "outputs": [],
   "source": [
    "try:\n",
    "    result = 10 + 10\n",
    "\n",
    "except:\n",
    "    print('Looks like addition operation is not performed correctly')"
   ]
  },
  {
   "cell_type": "code",
   "execution_count": 8,
   "id": "79039f2c",
   "metadata": {},
   "outputs": [
    {
     "data": {
      "text/plain": [
       "20"
      ]
     },
     "execution_count": 8,
     "metadata": {},
     "output_type": "execute_result"
    }
   ],
   "source": [
    "result"
   ]
  },
  {
   "cell_type": "code",
   "execution_count": 12,
   "id": "b89d338f",
   "metadata": {},
   "outputs": [
    {
     "name": "stdout",
     "output_type": "stream",
     "text": [
      "Looks like addition operation is not performed correctly!\n"
     ]
    }
   ],
   "source": [
    "try:\n",
    "    result = 10 + '10'\n",
    "\n",
    "except:\n",
    "    print('Looks like addition operation is not performed correctly!')"
   ]
  },
  {
   "cell_type": "code",
   "execution_count": 14,
   "id": "e733dd30",
   "metadata": {},
   "outputs": [
    {
     "name": "stdout",
     "output_type": "stream",
     "text": [
      "Addition Operation is performed succesfully!\n",
      "20\n"
     ]
    }
   ],
   "source": [
    "try:\n",
    "    result = 10 + 10\n",
    "\n",
    "except:\n",
    "    print('Looks like addition operation is not performed correctly!')\n",
    "\n",
    "else:\n",
    "    print('Addition Operation is performed succesfully!')\n",
    "    print(result)"
   ]
  },
  {
   "cell_type": "code",
   "execution_count": 18,
   "id": "b6d1c733",
   "metadata": {},
   "outputs": [
    {
     "name": "stdout",
     "output_type": "stream",
     "text": [
      "All other exceptions!\n",
      "I always run!\n"
     ]
    }
   ],
   "source": [
    "try:\n",
    "    f = open('testfile','r')\n",
    "    f.write('Writing my first line in my file')\n",
    "    \n",
    "# except TypeError:\n",
    "#     print('There was a type error!')\n",
    "# except OSError:\n",
    "#     print('There is a OS error!')\n",
    "except:\n",
    "    print('All other exceptions!')\n",
    "    \n",
    "finally:\n",
    "    print('I always run!')\n",
    "    \n",
    "#Error: Trying to write to testfile in read mode."
   ]
  },
  {
   "cell_type": "markdown",
   "id": "276d5ea2",
   "metadata": {},
   "source": [
    "_________________________________________________________________"
   ]
  },
  {
   "cell_type": "code",
   "execution_count": 19,
   "id": "2ee1be74",
   "metadata": {},
   "outputs": [],
   "source": [
    "def ask_for_int():\n",
    "    try:\n",
    "        result = int(input(\"Please provide a number: \"))\n",
    "    except:\n",
    "        print('whoops! This is not a number')\n",
    "    finally:\n",
    "        print('End of try/except/finally!')"
   ]
  },
  {
   "cell_type": "code",
   "execution_count": 20,
   "id": "7abe41e2",
   "metadata": {},
   "outputs": [
    {
     "name": "stdout",
     "output_type": "stream",
     "text": [
      "Please provide a number: 10\n",
      "End of try/except/finally!\n"
     ]
    }
   ],
   "source": [
    "ask_for_int()"
   ]
  },
  {
   "cell_type": "code",
   "execution_count": 22,
   "id": "8ba02354",
   "metadata": {},
   "outputs": [
    {
     "name": "stdout",
     "output_type": "stream",
     "text": [
      "Please provide a number: Yes\n",
      "whoops! This is not a number\n",
      "End of try/except/finally!\n"
     ]
    }
   ],
   "source": [
    "ask_for_int()"
   ]
  },
  {
   "cell_type": "code",
   "execution_count": 25,
   "id": "c271a29e",
   "metadata": {},
   "outputs": [
    {
     "name": "stdout",
     "output_type": "stream",
     "text": [
      "Please provide a number: -2\n",
      "End of try/except/finally!\n"
     ]
    }
   ],
   "source": [
    "ask_for_int()"
   ]
  },
  {
   "cell_type": "code",
   "execution_count": 26,
   "id": "f6cb0c70",
   "metadata": {},
   "outputs": [
    {
     "name": "stdout",
     "output_type": "stream",
     "text": [
      "Please provide a number: -2.56\n",
      "whoops! This is not a number\n",
      "End of try/except/finally!\n"
     ]
    }
   ],
   "source": [
    "ask_for_int()"
   ]
  },
  {
   "cell_type": "code",
   "execution_count": 35,
   "id": "5ad44333",
   "metadata": {},
   "outputs": [],
   "source": [
    "####\n",
    "\n",
    "def ask_for_int():\n",
    "    \n",
    "    while True:\n",
    "        try:\n",
    "            result = int(input(\"Please provide a number: \"))\n",
    "        except:\n",
    "            print('whoops! This is not a number')\n",
    "            continue\n",
    "        else:\n",
    "            print(\"You entered a number\")\n",
    "            break\n",
    "        finally:\n",
    "            print('Lets start again!')"
   ]
  },
  {
   "cell_type": "code",
   "execution_count": 36,
   "id": "bae24a4f",
   "metadata": {},
   "outputs": [
    {
     "name": "stdout",
     "output_type": "stream",
     "text": [
      "Please provide a number: 10\n",
      "You entered a number\n",
      "Lets start again!\n"
     ]
    }
   ],
   "source": [
    "ask_for_int()"
   ]
  },
  {
   "cell_type": "code",
   "execution_count": 37,
   "id": "8b17aadc",
   "metadata": {},
   "outputs": [
    {
     "name": "stdout",
     "output_type": "stream",
     "text": [
      "Please provide a number: String\n",
      "whoops! This is not a number\n",
      "Lets start again!\n",
      "Please provide a number: random name\n",
      "whoops! This is not a number\n",
      "Lets start again!\n",
      "Please provide a number: 2\n",
      "You entered a number\n",
      "Lets start again!\n"
     ]
    }
   ],
   "source": [
    "ask_for_int()"
   ]
  }
 ],
 "metadata": {
  "kernelspec": {
   "display_name": "Python 3 (ipykernel)",
   "language": "python",
   "name": "python3"
  },
  "language_info": {
   "codemirror_mode": {
    "name": "ipython",
    "version": 3
   },
   "file_extension": ".py",
   "mimetype": "text/x-python",
   "name": "python",
   "nbconvert_exporter": "python",
   "pygments_lexer": "ipython3",
   "version": "3.9.13"
  }
 },
 "nbformat": 4,
 "nbformat_minor": 5
}
