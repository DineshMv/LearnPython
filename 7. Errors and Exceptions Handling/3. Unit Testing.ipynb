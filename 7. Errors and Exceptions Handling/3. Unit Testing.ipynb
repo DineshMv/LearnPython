{
 "cells": [
  {
   "cell_type": "markdown",
   "id": "e9bd1a28",
   "metadata": {},
   "source": [
    "## Unit Testing:"
   ]
  },
  {
   "cell_type": "markdown",
   "id": "73a903ac",
   "metadata": {},
   "source": [
    "Equally important as writing good code is writing good tests. Better to find bugs yourself than have them reported to you by end users!"
   ]
  },
  {
   "cell_type": "markdown",
   "id": "722d7c76",
   "metadata": {},
   "source": [
    "**Testing tools:** \n",
    "\n",
    "There are dozens of good testing libraries out there. Most are third-party packages that require an install, such as:\n",
    "\n",
    "- pylint\n",
    "- pyflakes\n",
    "- pep8\n",
    "\n",
    "These are simple tools that merely look at your code, and they'll tell you if there are style issues or simple problems like variable names being called before assignment.\n",
    "\n",
    "A far better way to test your code is to write tests that send sample data to your program, and compare what's returned to a desired outcome.\n",
    "\n",
    "Two such tools are available from the standard library:\n",
    "\n",
    "- unittest\n",
    "- doctest"
   ]
  },
  {
   "cell_type": "markdown",
   "id": "442ff1df",
   "metadata": {},
   "source": [
    "### pylint: \n",
    "\n",
    "pylint tests for style as well as some very basic program logic.\n",
    "\n",
    "Pylint first lists some styling issues - it would like to see an extra newline at the end, modules and function definitions should have descriptive docstrings, and single characters are a poor choice for variable names."
   ]
  },
  {
   "cell_type": "markdown",
   "id": "4923717a",
   "metadata": {},
   "source": [
    "### unittest:\n",
    "\n",
    "unittest lets you write your own test programs. The goal is to send a specific set of data to your program, and analyze the returned results against an expected result. "
   ]
  },
  {
   "cell_type": "code",
   "execution_count": null,
   "id": "73ebb23d",
   "metadata": {},
   "outputs": [],
   "source": []
  }
 ],
 "metadata": {
  "kernelspec": {
   "display_name": "Python 3 (ipykernel)",
   "language": "python",
   "name": "python3"
  },
  "language_info": {
   "codemirror_mode": {
    "name": "ipython",
    "version": 3
   },
   "file_extension": ".py",
   "mimetype": "text/x-python",
   "name": "python",
   "nbconvert_exporter": "python",
   "pygments_lexer": "ipython3",
   "version": "3.9.13"
  }
 },
 "nbformat": 4,
 "nbformat_minor": 5
}
