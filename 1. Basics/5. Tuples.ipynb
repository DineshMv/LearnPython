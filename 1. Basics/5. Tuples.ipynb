{
 "cells": [
  {
   "cell_type": "markdown",
   "id": "19981c15",
   "metadata": {},
   "source": [
    "#### 5. Tuples in Python"
   ]
  },
  {
   "cell_type": "markdown",
   "id": "5dbce102",
   "metadata": {},
   "source": [
    "1. Tuples are very similar to lists in python. Only difference is Tuples are **Immutable**\n",
    "\n",
    "2. once an element is assigned to an index location inside a tuple, it cannot be re-assigned\n",
    "\n",
    "3. **Syntax: (1,2,3,5)**"
   ]
  },
  {
   "cell_type": "code",
   "execution_count": 1,
   "id": "df1fca97",
   "metadata": {},
   "outputs": [],
   "source": [
    "t = (1,2,3,4,5)"
   ]
  },
  {
   "cell_type": "code",
   "execution_count": 2,
   "id": "68a97be7",
   "metadata": {},
   "outputs": [],
   "source": [
    "myList = [1,2,3,4,5]"
   ]
  },
  {
   "cell_type": "code",
   "execution_count": 3,
   "id": "259d1aab",
   "metadata": {},
   "outputs": [
    {
     "data": {
      "text/plain": [
       "tuple"
      ]
     },
     "execution_count": 3,
     "metadata": {},
     "output_type": "execute_result"
    }
   ],
   "source": [
    "type(t)"
   ]
  },
  {
   "cell_type": "code",
   "execution_count": 4,
   "id": "ea957b6f",
   "metadata": {},
   "outputs": [
    {
     "data": {
      "text/plain": [
       "list"
      ]
     },
     "execution_count": 4,
     "metadata": {},
     "output_type": "execute_result"
    }
   ],
   "source": [
    "type(myList)"
   ]
  },
  {
   "cell_type": "code",
   "execution_count": 5,
   "id": "8248093d",
   "metadata": {},
   "outputs": [
    {
     "data": {
      "text/plain": [
       "5"
      ]
     },
     "execution_count": 5,
     "metadata": {},
     "output_type": "execute_result"
    }
   ],
   "source": [
    "len(t)"
   ]
  },
  {
   "cell_type": "code",
   "execution_count": 6,
   "id": "f28626e2",
   "metadata": {},
   "outputs": [
    {
     "data": {
      "text/plain": [
       "(1, 2, 3, 4, 5)"
      ]
     },
     "execution_count": 6,
     "metadata": {},
     "output_type": "execute_result"
    }
   ],
   "source": [
    "t"
   ]
  },
  {
   "cell_type": "code",
   "execution_count": 7,
   "id": "3feb4902",
   "metadata": {},
   "outputs": [],
   "source": [
    "t = ('one',2,'three',4,'five')"
   ]
  },
  {
   "cell_type": "code",
   "execution_count": 11,
   "id": "fbfa037f",
   "metadata": {},
   "outputs": [
    {
     "data": {
      "text/plain": [
       "'three'"
      ]
     },
     "execution_count": 11,
     "metadata": {},
     "output_type": "execute_result"
    }
   ],
   "source": [
    "#Indexing tuple\n",
    "\n",
    "t[2]"
   ]
  },
  {
   "cell_type": "code",
   "execution_count": 9,
   "id": "0b77b378",
   "metadata": {},
   "outputs": [
    {
     "data": {
      "text/plain": [
       "'five'"
      ]
     },
     "execution_count": 9,
     "metadata": {},
     "output_type": "execute_result"
    }
   ],
   "source": [
    "t[-1]"
   ]
  },
  {
   "cell_type": "code",
   "execution_count": 12,
   "id": "5d769a3a",
   "metadata": {},
   "outputs": [],
   "source": [
    "t=('1','a','b','a','b','a','b')"
   ]
  },
  {
   "cell_type": "code",
   "execution_count": 26,
   "id": "0d344eb2",
   "metadata": {},
   "outputs": [
    {
     "data": {
      "text/plain": [
       "3"
      ]
     },
     "execution_count": 26,
     "metadata": {},
     "output_type": "execute_result"
    }
   ],
   "source": [
    "#COUNT is a method to count the number of occurences of a element inside the tuple\n",
    "t.count('a')"
   ]
  },
  {
   "cell_type": "code",
   "execution_count": 16,
   "id": "0e9fc042",
   "metadata": {},
   "outputs": [
    {
     "data": {
      "text/plain": [
       "1"
      ]
     },
     "execution_count": 16,
     "metadata": {},
     "output_type": "execute_result"
    }
   ],
   "source": [
    "#Only retruns the index of the very first time occurence\n",
    "\n",
    "t.index('a')"
   ]
  },
  {
   "cell_type": "code",
   "execution_count": 18,
   "id": "55468ab4",
   "metadata": {},
   "outputs": [],
   "source": [
    "#Property of Tuple: Immutability\n",
    "\n",
    "myList = [1,2,3,4]"
   ]
  },
  {
   "cell_type": "code",
   "execution_count": 21,
   "id": "94503237",
   "metadata": {},
   "outputs": [],
   "source": [
    "myList[0] = 'one'"
   ]
  },
  {
   "cell_type": "code",
   "execution_count": 22,
   "id": "fc366502",
   "metadata": {},
   "outputs": [
    {
     "data": {
      "text/plain": [
       "['one', 2, 3, 4]"
      ]
     },
     "execution_count": 22,
     "metadata": {},
     "output_type": "execute_result"
    }
   ],
   "source": [
    "#element in index 0 location is modified which means lists are mutable\n",
    "\n",
    "myList"
   ]
  },
  {
   "cell_type": "code",
   "execution_count": 24,
   "id": "a8eff24c",
   "metadata": {},
   "outputs": [],
   "source": [
    "#Lets take a Tuple\n",
    "\n",
    "t1=(1,2,3,4)"
   ]
  },
  {
   "cell_type": "code",
   "execution_count": 25,
   "id": "e51ee86a",
   "metadata": {},
   "outputs": [
    {
     "ename": "TypeError",
     "evalue": "'tuple' object does not support item assignment",
     "output_type": "error",
     "traceback": [
      "\u001b[1;31m---------------------------------------------------------------------------\u001b[0m",
      "\u001b[1;31mTypeError\u001b[0m                                 Traceback (most recent call last)",
      "Input \u001b[1;32mIn [25]\u001b[0m, in \u001b[0;36m<module>\u001b[1;34m\u001b[0m\n\u001b[1;32m----> 1\u001b[0m t1[\u001b[38;5;241m0\u001b[39m] \u001b[38;5;241m=\u001b[39m \u001b[38;5;124m'\u001b[39m\u001b[38;5;124mone\u001b[39m\u001b[38;5;124m'\u001b[39m\n",
      "\u001b[1;31mTypeError\u001b[0m: 'tuple' object does not support item assignment"
     ]
    }
   ],
   "source": [
    "t1[0] = 'one'"
   ]
  },
  {
   "cell_type": "markdown",
   "id": "060f4bcd",
   "metadata": {},
   "source": [
    "Unable to change the element at index location: 0, Hence Tuples are immutable"
   ]
  },
  {
   "cell_type": "markdown",
   "id": "4977aa29",
   "metadata": {},
   "source": [
    "****************************************************"
   ]
  }
 ],
 "metadata": {
  "kernelspec": {
   "display_name": "Python 3 (ipykernel)",
   "language": "python",
   "name": "python3"
  },
  "language_info": {
   "codemirror_mode": {
    "name": "ipython",
    "version": 3
   },
   "file_extension": ".py",
   "mimetype": "text/x-python",
   "name": "python",
   "nbconvert_exporter": "python",
   "pygments_lexer": "ipython3",
   "version": "3.9.7"
  }
 },
 "nbformat": 4,
 "nbformat_minor": 5
}
