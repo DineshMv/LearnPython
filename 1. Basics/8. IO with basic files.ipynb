{
 "cells": [
  {
   "cell_type": "markdown",
   "id": "1e6a655d",
   "metadata": {},
   "source": [
    "#### IO with Basic Files"
   ]
  },
  {
   "cell_type": "code",
   "execution_count": 11,
   "id": "00843cfc",
   "metadata": {},
   "outputs": [
    {
     "name": "stdout",
     "output_type": "stream",
     "text": [
      "Writing myfile.txt\n"
     ]
    }
   ],
   "source": [
    "%%writefile myfile.txt\n",
    "Hello, this is a quick test file.\n",
    "This is the second line of the file.\n",
    "\n",
    "#creating a new file from jupyter"
   ]
  },
  {
   "cell_type": "code",
   "execution_count": 14,
   "id": "a861d44d",
   "metadata": {},
   "outputs": [],
   "source": [
    "myfile = open('myfile.txt')"
   ]
  },
  {
   "cell_type": "code",
   "execution_count": 15,
   "id": "8ec34a6b",
   "metadata": {},
   "outputs": [
    {
     "ename": "FileNotFoundError",
     "evalue": "[Errno 2] No such file or directory: 'wrongFile.txt'",
     "output_type": "error",
     "traceback": [
      "\u001b[1;31m---------------------------------------------------------------------------\u001b[0m",
      "\u001b[1;31mFileNotFoundError\u001b[0m                         Traceback (most recent call last)",
      "Input \u001b[1;32mIn [15]\u001b[0m, in \u001b[0;36m<module>\u001b[1;34m\u001b[0m\n\u001b[1;32m----> 1\u001b[0m myfile \u001b[38;5;241m=\u001b[39m \u001b[38;5;28;43mopen\u001b[39;49m\u001b[43m(\u001b[49m\u001b[38;5;124;43m'\u001b[39;49m\u001b[38;5;124;43mwrongFile.txt\u001b[39;49m\u001b[38;5;124;43m'\u001b[39;49m\u001b[43m)\u001b[49m\n",
      "\u001b[1;31mFileNotFoundError\u001b[0m: [Errno 2] No such file or directory: 'wrongFile.txt'"
     ]
    }
   ],
   "source": [
    "#Wrong file name\n",
    "myfile = open('wrongFile.txt')"
   ]
  },
  {
   "cell_type": "code",
   "execution_count": 21,
   "id": "990d6b24",
   "metadata": {},
   "outputs": [
    {
     "data": {
      "text/plain": [
       "'C:\\\\Users\\\\Dino\\\\myPython\\\\LearnPython'"
      ]
     },
     "execution_count": 21,
     "metadata": {},
     "output_type": "execute_result"
    }
   ],
   "source": [
    "pwd #working directory path"
   ]
  },
  {
   "cell_type": "code",
   "execution_count": 22,
   "id": "49a4a1fe",
   "metadata": {},
   "outputs": [],
   "source": [
    "myfile = open('myfile.txt')"
   ]
  },
  {
   "cell_type": "code",
   "execution_count": 23,
   "id": "a296d7a6",
   "metadata": {},
   "outputs": [
    {
     "data": {
      "text/plain": [
       "'Hello, this is a quick test file.\\nThis is the second line of the file.\\n'"
      ]
     },
     "execution_count": 23,
     "metadata": {},
     "output_type": "execute_result"
    }
   ],
   "source": [
    "myfile.read()"
   ]
  },
  {
   "cell_type": "code",
   "execution_count": 26,
   "id": "69d9d65a",
   "metadata": {},
   "outputs": [
    {
     "data": {
      "text/plain": [
       "''"
      ]
     },
     "execution_count": 26,
     "metadata": {},
     "output_type": "execute_result"
    }
   ],
   "source": [
    "myfile.readline() #Cursor reads from beginning of the file till the end, so the output is empty"
   ]
  },
  {
   "cell_type": "code",
   "execution_count": 34,
   "id": "7af74169",
   "metadata": {},
   "outputs": [
    {
     "data": {
      "text/plain": [
       "0"
      ]
     },
     "execution_count": 34,
     "metadata": {},
     "output_type": "execute_result"
    }
   ],
   "source": [
    "myfile.seek(0) #Moving cursor position to the 0 poisition in the file"
   ]
  },
  {
   "cell_type": "code",
   "execution_count": 35,
   "id": "4b720bcc",
   "metadata": {},
   "outputs": [
    {
     "data": {
      "text/plain": [
       "['Hello, this is a quick test file.\\n',\n",
       " 'This is the second line of the file.\\n']"
      ]
     },
     "execution_count": 35,
     "metadata": {},
     "output_type": "execute_result"
    }
   ],
   "source": [
    "myfile.readlines() #Reads all the lines to get a list where each element represents a line"
   ]
  },
  {
   "cell_type": "code",
   "execution_count": 36,
   "id": "269e9409",
   "metadata": {},
   "outputs": [],
   "source": [
    "myfile.close() #Close the open file which python is using"
   ]
  },
  {
   "cell_type": "markdown",
   "id": "df17c70b",
   "metadata": {},
   "source": [
    "**************************************************"
   ]
  },
  {
   "cell_type": "markdown",
   "id": "bca83ef1",
   "metadata": {},
   "source": [
    "##### File Locations:"
   ]
  },
  {
   "cell_type": "markdown",
   "id": "5ceb2c2e",
   "metadata": {},
   "source": [
    "1. To open a file from any location, we need to give full path\n",
    "\n",
    "2. Example: my file is in the location D:\\0Programming\\0Python Bootcamp\\3. Python Object and Data Structure Basics"
   ]
  },
  {
   "cell_type": "code",
   "execution_count": 37,
   "id": "0d552a89",
   "metadata": {},
   "outputs": [],
   "source": [
    "with open('myfile.txt') as myNewFile:\n",
    "    contents = myNewFile.read()"
   ]
  },
  {
   "cell_type": "code",
   "execution_count": 43,
   "id": "51be9296",
   "metadata": {},
   "outputs": [
    {
     "data": {
      "text/plain": [
       "'Hello, this is a quick test file.\\nThis is the second line of the file.\\n'"
      ]
     },
     "execution_count": 43,
     "metadata": {},
     "output_type": "execute_result"
    }
   ],
   "source": [
    "contents"
   ]
  },
  {
   "cell_type": "code",
   "execution_count": 44,
   "id": "28ad9026",
   "metadata": {},
   "outputs": [],
   "source": [
    "with open('myfile.txt',mode='r') as myfile:\n",
    "    contents = myfile.read()\n",
    "    \n",
    "#Reading the contents of the file in read mode"
   ]
  },
  {
   "cell_type": "code",
   "execution_count": 45,
   "id": "93fc4b00",
   "metadata": {},
   "outputs": [
    {
     "data": {
      "text/plain": [
       "'Hello, this is a quick test file.\\nThis is the second line of the file.\\n'"
      ]
     },
     "execution_count": 45,
     "metadata": {},
     "output_type": "execute_result"
    }
   ],
   "source": [
    "contents"
   ]
  },
  {
   "cell_type": "code",
   "execution_count": 46,
   "id": "76616e08",
   "metadata": {},
   "outputs": [
    {
     "ename": "UnsupportedOperation",
     "evalue": "not readable",
     "output_type": "error",
     "traceback": [
      "\u001b[1;31m---------------------------------------------------------------------------\u001b[0m",
      "\u001b[1;31mUnsupportedOperation\u001b[0m                      Traceback (most recent call last)",
      "Input \u001b[1;32mIn [46]\u001b[0m, in \u001b[0;36m<module>\u001b[1;34m\u001b[0m\n\u001b[0;32m      1\u001b[0m \u001b[38;5;28;01mwith\u001b[39;00m \u001b[38;5;28mopen\u001b[39m(\u001b[38;5;124m'\u001b[39m\u001b[38;5;124mmyfile.txt\u001b[39m\u001b[38;5;124m'\u001b[39m,mode\u001b[38;5;241m=\u001b[39m\u001b[38;5;124m'\u001b[39m\u001b[38;5;124mw\u001b[39m\u001b[38;5;124m'\u001b[39m) \u001b[38;5;28;01mas\u001b[39;00m myfile:\n\u001b[1;32m----> 2\u001b[0m     contents \u001b[38;5;241m=\u001b[39m \u001b[43mmyfile\u001b[49m\u001b[38;5;241;43m.\u001b[39;49m\u001b[43mread\u001b[49m\u001b[43m(\u001b[49m\u001b[43m)\u001b[49m\n",
      "\u001b[1;31mUnsupportedOperation\u001b[0m: not readable"
     ]
    }
   ],
   "source": [
    "with open('myfile.txt',mode='w') as myfile:\n",
    "    contents = myfile.read()"
   ]
  },
  {
   "cell_type": "markdown",
   "id": "eeddfff9",
   "metadata": {},
   "source": [
    "**************************************************"
   ]
  },
  {
   "cell_type": "markdown",
   "id": "b7585347",
   "metadata": {},
   "source": [
    "##### Reading, Writing & Appending modes to a File:"
   ]
  },
  {
   "cell_type": "markdown",
   "id": "70068186",
   "metadata": {},
   "source": [
    "Character         Meaning\n",
    "\n",
    "mode = 'r'     is      read only (default)\n",
    "\n",
    "mode ='w'     is write only (will overwrite existing files or create new)\n",
    "\n",
    "mode ='a' is    appending to the end of the file if it exists (only add on to files)\n",
    "\n",
    "mode = 'r+' is reading and writing\n",
    "\n",
    "mode = 'w+' is writing and reading (will overwrite existing files or create new)\n",
    "\n",
    "mode ='x'        is create a new file and open it for writing\n",
    "\n",
    "mode ='b is only binary mode\n",
    " \n",
    "mode ='t' is only    text mode (default)\n"
   ]
  },
  {
   "cell_type": "code",
   "execution_count": 52,
   "id": "12ccb588",
   "metadata": {},
   "outputs": [
    {
     "name": "stdout",
     "output_type": "stream",
     "text": [
      "Overwriting myfile.txt\n"
     ]
    }
   ],
   "source": [
    "%%writefile myfile.txt\n",
    "ONE on first\n",
    "TWO on second\n",
    "THREE on third"
   ]
  },
  {
   "cell_type": "code",
   "execution_count": 53,
   "id": "236c7dab",
   "metadata": {},
   "outputs": [
    {
     "name": "stdout",
     "output_type": "stream",
     "text": [
      "ONE on first\n",
      "TWO on second\n",
      "THREE on third\n",
      "\n"
     ]
    }
   ],
   "source": [
    "with open('myfile.txt',mode='r') as f:\n",
    "    print(f.read())  #READ mode"
   ]
  },
  {
   "cell_type": "code",
   "execution_count": 54,
   "id": "333f0f5f",
   "metadata": {},
   "outputs": [],
   "source": [
    "with open('myfile.txt',mode='a') as f:\n",
    "    f.write('FOUR on fourth') #append mode - adding a line at the end"
   ]
  },
  {
   "cell_type": "code",
   "execution_count": 55,
   "id": "c7d87fe9",
   "metadata": {},
   "outputs": [
    {
     "name": "stdout",
     "output_type": "stream",
     "text": [
      "ONE on first\n",
      "TWO on second\n",
      "THREE on third\n",
      "FOUR on fourth\n"
     ]
    }
   ],
   "source": [
    "with open('myfile.txt',mode='r') as f:\n",
    "    print(f.read())  #READ mode"
   ]
  },
  {
   "cell_type": "code",
   "execution_count": 56,
   "id": "fbc26bc8",
   "metadata": {},
   "outputs": [],
   "source": [
    "with open('myfile3.txt',mode='w') as f:\n",
    "    f.write(\"I just created this new file: myfile3\") #Write mode: created a new file and written given line"
   ]
  },
  {
   "cell_type": "code",
   "execution_count": 57,
   "id": "6f187a91",
   "metadata": {},
   "outputs": [
    {
     "name": "stdout",
     "output_type": "stream",
     "text": [
      "I just created this new file: myfile3\n"
     ]
    }
   ],
   "source": [
    "with open('myfile3.txt',mode='r') as f:\n",
    "    print(f.read())  #READ mode"
   ]
  },
  {
   "cell_type": "markdown",
   "id": "af2c6bdc",
   "metadata": {},
   "source": [
    "*********************************************************"
   ]
  },
  {
   "cell_type": "code",
   "execution_count": null,
   "id": "844882e2",
   "metadata": {},
   "outputs": [],
   "source": []
  }
 ],
 "metadata": {
  "kernelspec": {
   "display_name": "Python 3 (ipykernel)",
   "language": "python",
   "name": "python3"
  },
  "language_info": {
   "codemirror_mode": {
    "name": "ipython",
    "version": 3
   },
   "file_extension": ".py",
   "mimetype": "text/x-python",
   "name": "python",
   "nbconvert_exporter": "python",
   "pygments_lexer": "ipython3",
   "version": "3.9.7"
  }
 },
 "nbformat": 4,
 "nbformat_minor": 5
}
