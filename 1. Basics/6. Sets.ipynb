{
 "cells": [
  {
   "cell_type": "markdown",
   "id": "3a1733e7",
   "metadata": {},
   "source": [
    "#### Sets"
   ]
  },
  {
   "cell_type": "markdown",
   "id": "dd6d5adb",
   "metadata": {},
   "source": [
    "1. **Sets** are unordered collections of unique elements\n",
    "\n",
    "2. There can only be one representative of same object.  \n",
    "\n",
    "3. Ex: There can be only one 'a'/one 'A' in a set "
   ]
  },
  {
   "cell_type": "code",
   "execution_count": 1,
   "id": "414b5b89",
   "metadata": {},
   "outputs": [],
   "source": [
    "#Example:\n",
    "\n",
    "myset = set()"
   ]
  },
  {
   "cell_type": "code",
   "execution_count": 2,
   "id": "52fe24d5",
   "metadata": {},
   "outputs": [
    {
     "data": {
      "text/plain": [
       "set()"
      ]
     },
     "execution_count": 2,
     "metadata": {},
     "output_type": "execute_result"
    }
   ],
   "source": [
    "myset"
   ]
  },
  {
   "cell_type": "code",
   "execution_count": 3,
   "id": "99fde5ba",
   "metadata": {},
   "outputs": [],
   "source": [
    "#Adding an element\n",
    "myset.add(1)"
   ]
  },
  {
   "cell_type": "code",
   "execution_count": 4,
   "id": "be66aae5",
   "metadata": {},
   "outputs": [
    {
     "data": {
      "text/plain": [
       "{1}"
      ]
     },
     "execution_count": 4,
     "metadata": {},
     "output_type": "execute_result"
    }
   ],
   "source": [
    "myset"
   ]
  },
  {
   "cell_type": "code",
   "execution_count": 5,
   "id": "8c72b25f",
   "metadata": {},
   "outputs": [],
   "source": [
    "myset.add(2)"
   ]
  },
  {
   "cell_type": "code",
   "execution_count": 6,
   "id": "dd505058",
   "metadata": {},
   "outputs": [
    {
     "data": {
      "text/plain": [
       "{1, 2}"
      ]
     },
     "execution_count": 6,
     "metadata": {},
     "output_type": "execute_result"
    }
   ],
   "source": [
    "myset"
   ]
  },
  {
   "cell_type": "code",
   "execution_count": 9,
   "id": "41d89e0f",
   "metadata": {},
   "outputs": [],
   "source": [
    "#Adding the same value to the set again \n",
    "myset.add(2)"
   ]
  },
  {
   "cell_type": "code",
   "execution_count": 10,
   "id": "05888d5d",
   "metadata": {},
   "outputs": [
    {
     "data": {
      "text/plain": [
       "{1, 2}"
      ]
     },
     "execution_count": 10,
     "metadata": {},
     "output_type": "execute_result"
    }
   ],
   "source": [
    "myset\n",
    "\n",
    "#Duplicate value of 2 is not added. It only accepts unique values"
   ]
  },
  {
   "cell_type": "markdown",
   "id": "f64852f8",
   "metadata": {},
   "source": [
    "In real time, sets may be useful when casting a list to a set in order to get only unique values"
   ]
  },
  {
   "cell_type": "code",
   "execution_count": 11,
   "id": "ab3f6d23",
   "metadata": {},
   "outputs": [],
   "source": [
    "myList=[1,1,1,1,1,1,3,3,4,5,2,2,2,2,3,3,3,5,5,5]"
   ]
  },
  {
   "cell_type": "code",
   "execution_count": 12,
   "id": "3b21fb4e",
   "metadata": {},
   "outputs": [
    {
     "data": {
      "text/plain": [
       "[1, 1, 1, 1, 1, 1, 3, 3, 4, 5, 2, 2, 2, 2, 3, 3, 3, 5, 5, 5]"
      ]
     },
     "execution_count": 12,
     "metadata": {},
     "output_type": "execute_result"
    }
   ],
   "source": [
    "myList"
   ]
  },
  {
   "cell_type": "code",
   "execution_count": 13,
   "id": "b1681f7b",
   "metadata": {},
   "outputs": [
    {
     "data": {
      "text/plain": [
       "{1, 2, 3, 4, 5}"
      ]
     },
     "execution_count": 13,
     "metadata": {},
     "output_type": "execute_result"
    }
   ],
   "source": [
    "#Casting the above defined list to a set\n",
    "\n",
    "set(myList)"
   ]
  },
  {
   "cell_type": "markdown",
   "id": "fe33c593",
   "metadata": {},
   "source": [
    "In the the output, we got only unique elements from the list "
   ]
  },
  {
   "cell_type": "markdown",
   "id": "41151b3f",
   "metadata": {},
   "source": [
    "***********************************************"
   ]
  }
 ],
 "metadata": {
  "kernelspec": {
   "display_name": "Python 3 (ipykernel)",
   "language": "python",
   "name": "python3"
  },
  "language_info": {
   "codemirror_mode": {
    "name": "ipython",
    "version": 3
   },
   "file_extension": ".py",
   "mimetype": "text/x-python",
   "name": "python",
   "nbconvert_exporter": "python",
   "pygments_lexer": "ipython3",
   "version": "3.9.7"
  }
 },
 "nbformat": 4,
 "nbformat_minor": 5
}
