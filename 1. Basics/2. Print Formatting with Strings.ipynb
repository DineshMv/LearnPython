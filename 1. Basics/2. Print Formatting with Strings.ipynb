{
 "cells": [
  {
   "cell_type": "markdown",
   "id": "5e2a2272",
   "metadata": {},
   "source": [
    "#### Print Formating with Strings"
   ]
  },
  {
   "cell_type": "markdown",
   "id": "79dca945",
   "metadata": {},
   "source": [
    "1) .format()\n",
    "\n",
    "2) f-strings (formatted string literals)"
   ]
  },
  {
   "cell_type": "markdown",
   "id": "206ba7c8",
   "metadata": {},
   "source": [
    "##### 1. .format() method:"
   ]
  },
  {
   "cell_type": "markdown",
   "id": "60c0a00f",
   "metadata": {},
   "source": [
    "**Syntax: 'String here {} then also {}'.format('something1', 'something2')**"
   ]
  },
  {
   "cell_type": "code",
   "execution_count": 3,
   "id": "11f62236",
   "metadata": {},
   "outputs": [
    {
     "name": "stdout",
     "output_type": "stream",
     "text": [
      "This is a String INSERTED\n"
     ]
    }
   ],
   "source": [
    "print('This is a String{}'.format(' INSERTED'))"
   ]
  },
  {
   "cell_type": "code",
   "execution_count": 8,
   "id": "3ac303ae",
   "metadata": {},
   "outputs": [
    {
     "name": "stdout",
     "output_type": "stream",
     "text": [
      "This is a test\n"
     ]
    }
   ],
   "source": [
    "print('This {} {} {}'.format('is', 'a', 'test'))"
   ]
  },
  {
   "cell_type": "code",
   "execution_count": 9,
   "id": "1b7dea54",
   "metadata": {},
   "outputs": [
    {
     "name": "stdout",
     "output_type": "stream",
     "text": [
      "This is test a\n"
     ]
    }
   ],
   "source": [
    "print('This {0} {2} {1}'.format('is', 'a', 'test'))"
   ]
  },
  {
   "cell_type": "code",
   "execution_count": 10,
   "id": "267f51fb",
   "metadata": {},
   "outputs": [
    {
     "name": "stdout",
     "output_type": "stream",
     "text": [
      "The quick brown fox\n"
     ]
    }
   ],
   "source": [
    "print('The {q} {b} {f}'.format(q='quick',b='brown',f='fox'))"
   ]
  },
  {
   "cell_type": "code",
   "execution_count": 11,
   "id": "53289508",
   "metadata": {},
   "outputs": [
    {
     "name": "stdout",
     "output_type": "stream",
     "text": [
      "The fox fox fox\n"
     ]
    }
   ],
   "source": [
    "print('The {f} {f} {f}'.format(q='quick',b='brown',f='fox'))"
   ]
  },
  {
   "cell_type": "markdown",
   "id": "12e1c29e",
   "metadata": {},
   "source": [
    "*************************************************************"
   ]
  },
  {
   "cell_type": "markdown",
   "id": "dbd89e18",
   "metadata": {},
   "source": [
    "#### 2. Float formatting:"
   ]
  },
  {
   "cell_type": "markdown",
   "id": "1d143539",
   "metadata": {},
   "source": [
    "   **Syntax: \"{value:width.precisionf}\"**"
   ]
  },
  {
   "cell_type": "code",
   "execution_count": 14,
   "id": "4b09e2f6",
   "metadata": {},
   "outputs": [],
   "source": [
    "result = 100/777"
   ]
  },
  {
   "cell_type": "code",
   "execution_count": 15,
   "id": "369b8f44",
   "metadata": {},
   "outputs": [
    {
     "data": {
      "text/plain": [
       "0.1287001287001287"
      ]
     },
     "execution_count": 15,
     "metadata": {},
     "output_type": "execute_result"
    }
   ],
   "source": [
    "result"
   ]
  },
  {
   "cell_type": "code",
   "execution_count": 23,
   "id": "5d42ebe1",
   "metadata": {},
   "outputs": [
    {
     "name": "stdout",
     "output_type": "stream",
     "text": [
      "The result was 0.129\n"
     ]
    }
   ],
   "source": [
    "print(\"The result was {r:1.3f}\".format(r=result))"
   ]
  },
  {
   "cell_type": "code",
   "execution_count": 25,
   "id": "e5ada367",
   "metadata": {},
   "outputs": [
    {
     "name": "stdout",
     "output_type": "stream",
     "text": [
      "The result was      0.129\n"
     ]
    }
   ],
   "source": [
    "print(\"The result was {r:10.3f}\".format(r=result))\n",
    "\n",
    "#white-space gets printed in the format region if we increase the width"
   ]
  },
  {
   "cell_type": "markdown",
   "id": "e702bed8",
   "metadata": {},
   "source": [
    "####  3. f-strings (formatted string literals)"
   ]
  },
  {
   "cell_type": "code",
   "execution_count": 26,
   "id": "677a45bc",
   "metadata": {},
   "outputs": [],
   "source": [
    "name = \"Apples\""
   ]
  },
  {
   "cell_type": "code",
   "execution_count": 27,
   "id": "16eaa459",
   "metadata": {},
   "outputs": [
    {
     "name": "stdout",
     "output_type": "stream",
     "text": [
      "Hello, His name is Apples\n"
     ]
    }
   ],
   "source": [
    "print(f'Hello, His name is {name}')"
   ]
  },
  {
   "cell_type": "code",
   "execution_count": 28,
   "id": "0bcb51d3",
   "metadata": {},
   "outputs": [],
   "source": [
    "name = \"Apple\"\n",
    "age = 3"
   ]
  },
  {
   "cell_type": "code",
   "execution_count": 29,
   "id": "95f1366e",
   "metadata": {},
   "outputs": [
    {
     "name": "stdout",
     "output_type": "stream",
     "text": [
      "Apple is 3 years old\n"
     ]
    }
   ],
   "source": [
    "print(f'{name} is {age} years old')"
   ]
  },
  {
   "cell_type": "markdown",
   "id": "8295c815",
   "metadata": {},
   "source": [
    "More examples: https://github.com/DineshMv/Complete-Python-3-Bootcamp/blob/master/00-Python%20Object%20and%20Data%20Structure%20Basics/03-Print%20Formatting%20with%20Strings.ipynb"
   ]
  },
  {
   "cell_type": "code",
   "execution_count": null,
   "id": "b29386ef",
   "metadata": {},
   "outputs": [],
   "source": []
  }
 ],
 "metadata": {
  "kernelspec": {
   "display_name": "Python 3 (ipykernel)",
   "language": "python",
   "name": "python3"
  },
  "language_info": {
   "codemirror_mode": {
    "name": "ipython",
    "version": 3
   },
   "file_extension": ".py",
   "mimetype": "text/x-python",
   "name": "python",
   "nbconvert_exporter": "python",
   "pygments_lexer": "ipython3",
   "version": "3.9.13"
  }
 },
 "nbformat": 4,
 "nbformat_minor": 5
}
